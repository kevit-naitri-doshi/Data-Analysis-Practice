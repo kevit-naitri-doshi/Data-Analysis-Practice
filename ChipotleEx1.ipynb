{
  "cells": [
    {
      "cell_type": "markdown",
      "metadata": {
        "id": "xhgi3JpTHjVk"
      },
      "source": [
        "# Ex2 - Getting and Knowing your Data"
      ]
    },
    {
      "cell_type": "markdown",
      "metadata": {
        "id": "-WuLOor5HjVp"
      },
      "source": [
        "This time we are going to pull data directly from the internet.\n",
        "Special thanks to: https://github.com/justmarkham for sharing the dataset and materials.\n",
        "\n",
        "### Step 1. Import the necessary libraries"
      ]
    },
    {
      "cell_type": "code",
      "execution_count": null,
      "metadata": {
        "id": "gLrBUJFfHjVr"
      },
      "outputs": [],
      "source": [
        "import pandas as pd\n",
        "import numpy as np"
      ]
    },
    {
      "cell_type": "markdown",
      "metadata": {
        "id": "43mTMmjxHjVs"
      },
      "source": [
        "### Step 2. Import the dataset from this [address](https://raw.githubusercontent.com/justmarkham/DAT8/master/data/chipotle.tsv)."
      ]
    },
    {
      "cell_type": "code",
      "source": [
        "!wget https://raw.githubusercontent.com/justmarkham/DAT8/master/data/chipotle.tsv"
      ],
      "metadata": {
        "colab": {
          "base_uri": "https://localhost:8080/"
        },
        "id": "ub7J8f7DIZ00",
        "outputId": "83830a04-2804-4503-ef66-6fc719599f79"
      },
      "execution_count": null,
      "outputs": [
        {
          "output_type": "stream",
          "name": "stdout",
          "text": [
            "--2024-07-08 07:14:33--  https://raw.githubusercontent.com/justmarkham/DAT8/master/data/chipotle.tsv\n",
            "Resolving raw.githubusercontent.com (raw.githubusercontent.com)... 185.199.108.133, 185.199.109.133, 185.199.110.133, ...\n",
            "Connecting to raw.githubusercontent.com (raw.githubusercontent.com)|185.199.108.133|:443... connected.\n",
            "HTTP request sent, awaiting response... 200 OK\n",
            "Length: 364975 (356K) [text/plain]\n",
            "Saving to: ‘chipotle.tsv’\n",
            "\n",
            "chipotle.tsv        100%[===================>] 356.42K  --.-KB/s    in 0.04s   \n",
            "\n",
            "2024-07-08 07:14:33 (8.03 MB/s) - ‘chipotle.tsv’ saved [364975/364975]\n",
            "\n"
          ]
        }
      ]
    },
    {
      "cell_type": "markdown",
      "metadata": {
        "id": "EseJmejxHjVs"
      },
      "source": [
        "### Step 3. Assign it to a variable called chipo."
      ]
    },
    {
      "cell_type": "code",
      "execution_count": null,
      "metadata": {
        "id": "wcByFMljHjVt"
      },
      "outputs": [],
      "source": [
        "chipo=pd.read_csv('/content/chipotle.tsv',sep='\\t')"
      ]
    },
    {
      "cell_type": "markdown",
      "metadata": {
        "id": "__jCje2NHjVt"
      },
      "source": [
        "### Step 4. See the first 10 entries"
      ]
    },
    {
      "cell_type": "code",
      "execution_count": null,
      "metadata": {
        "scrolled": false,
        "colab": {
          "base_uri": "https://localhost:8080/",
          "height": 363
        },
        "id": "7fpXV1RIHjVu",
        "outputId": "a4ae2cc9-588e-4a14-a396-39ba09796361"
      },
      "outputs": [
        {
          "output_type": "execute_result",
          "data": {
            "text/plain": [
              "   order_id  quantity                              item_name  \\\n",
              "0         1         1           Chips and Fresh Tomato Salsa   \n",
              "1         1         1                                   Izze   \n",
              "2         1         1                       Nantucket Nectar   \n",
              "3         1         1  Chips and Tomatillo-Green Chili Salsa   \n",
              "4         2         2                           Chicken Bowl   \n",
              "5         3         1                           Chicken Bowl   \n",
              "6         3         1                          Side of Chips   \n",
              "7         4         1                          Steak Burrito   \n",
              "8         4         1                       Steak Soft Tacos   \n",
              "9         5         1                          Steak Burrito   \n",
              "\n",
              "                                  choice_description item_price  \n",
              "0                                                NaN     $2.39   \n",
              "1                                       [Clementine]     $3.39   \n",
              "2                                            [Apple]     $3.39   \n",
              "3                                                NaN     $2.39   \n",
              "4  [Tomatillo-Red Chili Salsa (Hot), [Black Beans...    $16.98   \n",
              "5  [Fresh Tomato Salsa (Mild), [Rice, Cheese, Sou...    $10.98   \n",
              "6                                                NaN     $1.69   \n",
              "7  [Tomatillo Red Chili Salsa, [Fajita Vegetables...    $11.75   \n",
              "8  [Tomatillo Green Chili Salsa, [Pinto Beans, Ch...     $9.25   \n",
              "9  [Fresh Tomato Salsa, [Rice, Black Beans, Pinto...     $9.25   "
            ],
            "text/html": [
              "\n",
              "  <div id=\"df-6b934e00-a4db-4fbe-9858-348634886518\" class=\"colab-df-container\">\n",
              "    <div>\n",
              "<style scoped>\n",
              "    .dataframe tbody tr th:only-of-type {\n",
              "        vertical-align: middle;\n",
              "    }\n",
              "\n",
              "    .dataframe tbody tr th {\n",
              "        vertical-align: top;\n",
              "    }\n",
              "\n",
              "    .dataframe thead th {\n",
              "        text-align: right;\n",
              "    }\n",
              "</style>\n",
              "<table border=\"1\" class=\"dataframe\">\n",
              "  <thead>\n",
              "    <tr style=\"text-align: right;\">\n",
              "      <th></th>\n",
              "      <th>order_id</th>\n",
              "      <th>quantity</th>\n",
              "      <th>item_name</th>\n",
              "      <th>choice_description</th>\n",
              "      <th>item_price</th>\n",
              "    </tr>\n",
              "  </thead>\n",
              "  <tbody>\n",
              "    <tr>\n",
              "      <th>0</th>\n",
              "      <td>1</td>\n",
              "      <td>1</td>\n",
              "      <td>Chips and Fresh Tomato Salsa</td>\n",
              "      <td>NaN</td>\n",
              "      <td>$2.39</td>\n",
              "    </tr>\n",
              "    <tr>\n",
              "      <th>1</th>\n",
              "      <td>1</td>\n",
              "      <td>1</td>\n",
              "      <td>Izze</td>\n",
              "      <td>[Clementine]</td>\n",
              "      <td>$3.39</td>\n",
              "    </tr>\n",
              "    <tr>\n",
              "      <th>2</th>\n",
              "      <td>1</td>\n",
              "      <td>1</td>\n",
              "      <td>Nantucket Nectar</td>\n",
              "      <td>[Apple]</td>\n",
              "      <td>$3.39</td>\n",
              "    </tr>\n",
              "    <tr>\n",
              "      <th>3</th>\n",
              "      <td>1</td>\n",
              "      <td>1</td>\n",
              "      <td>Chips and Tomatillo-Green Chili Salsa</td>\n",
              "      <td>NaN</td>\n",
              "      <td>$2.39</td>\n",
              "    </tr>\n",
              "    <tr>\n",
              "      <th>4</th>\n",
              "      <td>2</td>\n",
              "      <td>2</td>\n",
              "      <td>Chicken Bowl</td>\n",
              "      <td>[Tomatillo-Red Chili Salsa (Hot), [Black Beans...</td>\n",
              "      <td>$16.98</td>\n",
              "    </tr>\n",
              "    <tr>\n",
              "      <th>5</th>\n",
              "      <td>3</td>\n",
              "      <td>1</td>\n",
              "      <td>Chicken Bowl</td>\n",
              "      <td>[Fresh Tomato Salsa (Mild), [Rice, Cheese, Sou...</td>\n",
              "      <td>$10.98</td>\n",
              "    </tr>\n",
              "    <tr>\n",
              "      <th>6</th>\n",
              "      <td>3</td>\n",
              "      <td>1</td>\n",
              "      <td>Side of Chips</td>\n",
              "      <td>NaN</td>\n",
              "      <td>$1.69</td>\n",
              "    </tr>\n",
              "    <tr>\n",
              "      <th>7</th>\n",
              "      <td>4</td>\n",
              "      <td>1</td>\n",
              "      <td>Steak Burrito</td>\n",
              "      <td>[Tomatillo Red Chili Salsa, [Fajita Vegetables...</td>\n",
              "      <td>$11.75</td>\n",
              "    </tr>\n",
              "    <tr>\n",
              "      <th>8</th>\n",
              "      <td>4</td>\n",
              "      <td>1</td>\n",
              "      <td>Steak Soft Tacos</td>\n",
              "      <td>[Tomatillo Green Chili Salsa, [Pinto Beans, Ch...</td>\n",
              "      <td>$9.25</td>\n",
              "    </tr>\n",
              "    <tr>\n",
              "      <th>9</th>\n",
              "      <td>5</td>\n",
              "      <td>1</td>\n",
              "      <td>Steak Burrito</td>\n",
              "      <td>[Fresh Tomato Salsa, [Rice, Black Beans, Pinto...</td>\n",
              "      <td>$9.25</td>\n",
              "    </tr>\n",
              "  </tbody>\n",
              "</table>\n",
              "</div>\n",
              "    <div class=\"colab-df-buttons\">\n",
              "\n",
              "  <div class=\"colab-df-container\">\n",
              "    <button class=\"colab-df-convert\" onclick=\"convertToInteractive('df-6b934e00-a4db-4fbe-9858-348634886518')\"\n",
              "            title=\"Convert this dataframe to an interactive table.\"\n",
              "            style=\"display:none;\">\n",
              "\n",
              "  <svg xmlns=\"http://www.w3.org/2000/svg\" height=\"24px\" viewBox=\"0 -960 960 960\">\n",
              "    <path d=\"M120-120v-720h720v720H120Zm60-500h600v-160H180v160Zm220 220h160v-160H400v160Zm0 220h160v-160H400v160ZM180-400h160v-160H180v160Zm440 0h160v-160H620v160ZM180-180h160v-160H180v160Zm440 0h160v-160H620v160Z\"/>\n",
              "  </svg>\n",
              "    </button>\n",
              "\n",
              "  <style>\n",
              "    .colab-df-container {\n",
              "      display:flex;\n",
              "      gap: 12px;\n",
              "    }\n",
              "\n",
              "    .colab-df-convert {\n",
              "      background-color: #E8F0FE;\n",
              "      border: none;\n",
              "      border-radius: 50%;\n",
              "      cursor: pointer;\n",
              "      display: none;\n",
              "      fill: #1967D2;\n",
              "      height: 32px;\n",
              "      padding: 0 0 0 0;\n",
              "      width: 32px;\n",
              "    }\n",
              "\n",
              "    .colab-df-convert:hover {\n",
              "      background-color: #E2EBFA;\n",
              "      box-shadow: 0px 1px 2px rgba(60, 64, 67, 0.3), 0px 1px 3px 1px rgba(60, 64, 67, 0.15);\n",
              "      fill: #174EA6;\n",
              "    }\n",
              "\n",
              "    .colab-df-buttons div {\n",
              "      margin-bottom: 4px;\n",
              "    }\n",
              "\n",
              "    [theme=dark] .colab-df-convert {\n",
              "      background-color: #3B4455;\n",
              "      fill: #D2E3FC;\n",
              "    }\n",
              "\n",
              "    [theme=dark] .colab-df-convert:hover {\n",
              "      background-color: #434B5C;\n",
              "      box-shadow: 0px 1px 3px 1px rgba(0, 0, 0, 0.15);\n",
              "      filter: drop-shadow(0px 1px 2px rgba(0, 0, 0, 0.3));\n",
              "      fill: #FFFFFF;\n",
              "    }\n",
              "  </style>\n",
              "\n",
              "    <script>\n",
              "      const buttonEl =\n",
              "        document.querySelector('#df-6b934e00-a4db-4fbe-9858-348634886518 button.colab-df-convert');\n",
              "      buttonEl.style.display =\n",
              "        google.colab.kernel.accessAllowed ? 'block' : 'none';\n",
              "\n",
              "      async function convertToInteractive(key) {\n",
              "        const element = document.querySelector('#df-6b934e00-a4db-4fbe-9858-348634886518');\n",
              "        const dataTable =\n",
              "          await google.colab.kernel.invokeFunction('convertToInteractive',\n",
              "                                                    [key], {});\n",
              "        if (!dataTable) return;\n",
              "\n",
              "        const docLinkHtml = 'Like what you see? Visit the ' +\n",
              "          '<a target=\"_blank\" href=https://colab.research.google.com/notebooks/data_table.ipynb>data table notebook</a>'\n",
              "          + ' to learn more about interactive tables.';\n",
              "        element.innerHTML = '';\n",
              "        dataTable['output_type'] = 'display_data';\n",
              "        await google.colab.output.renderOutput(dataTable, element);\n",
              "        const docLink = document.createElement('div');\n",
              "        docLink.innerHTML = docLinkHtml;\n",
              "        element.appendChild(docLink);\n",
              "      }\n",
              "    </script>\n",
              "  </div>\n",
              "\n",
              "\n",
              "<div id=\"df-0173efe9-e08f-4d6e-9867-061275b136f7\">\n",
              "  <button class=\"colab-df-quickchart\" onclick=\"quickchart('df-0173efe9-e08f-4d6e-9867-061275b136f7')\"\n",
              "            title=\"Suggest charts\"\n",
              "            style=\"display:none;\">\n",
              "\n",
              "<svg xmlns=\"http://www.w3.org/2000/svg\" height=\"24px\"viewBox=\"0 0 24 24\"\n",
              "     width=\"24px\">\n",
              "    <g>\n",
              "        <path d=\"M19 3H5c-1.1 0-2 .9-2 2v14c0 1.1.9 2 2 2h14c1.1 0 2-.9 2-2V5c0-1.1-.9-2-2-2zM9 17H7v-7h2v7zm4 0h-2V7h2v10zm4 0h-2v-4h2v4z\"/>\n",
              "    </g>\n",
              "</svg>\n",
              "  </button>\n",
              "\n",
              "<style>\n",
              "  .colab-df-quickchart {\n",
              "      --bg-color: #E8F0FE;\n",
              "      --fill-color: #1967D2;\n",
              "      --hover-bg-color: #E2EBFA;\n",
              "      --hover-fill-color: #174EA6;\n",
              "      --disabled-fill-color: #AAA;\n",
              "      --disabled-bg-color: #DDD;\n",
              "  }\n",
              "\n",
              "  [theme=dark] .colab-df-quickchart {\n",
              "      --bg-color: #3B4455;\n",
              "      --fill-color: #D2E3FC;\n",
              "      --hover-bg-color: #434B5C;\n",
              "      --hover-fill-color: #FFFFFF;\n",
              "      --disabled-bg-color: #3B4455;\n",
              "      --disabled-fill-color: #666;\n",
              "  }\n",
              "\n",
              "  .colab-df-quickchart {\n",
              "    background-color: var(--bg-color);\n",
              "    border: none;\n",
              "    border-radius: 50%;\n",
              "    cursor: pointer;\n",
              "    display: none;\n",
              "    fill: var(--fill-color);\n",
              "    height: 32px;\n",
              "    padding: 0;\n",
              "    width: 32px;\n",
              "  }\n",
              "\n",
              "  .colab-df-quickchart:hover {\n",
              "    background-color: var(--hover-bg-color);\n",
              "    box-shadow: 0 1px 2px rgba(60, 64, 67, 0.3), 0 1px 3px 1px rgba(60, 64, 67, 0.15);\n",
              "    fill: var(--button-hover-fill-color);\n",
              "  }\n",
              "\n",
              "  .colab-df-quickchart-complete:disabled,\n",
              "  .colab-df-quickchart-complete:disabled:hover {\n",
              "    background-color: var(--disabled-bg-color);\n",
              "    fill: var(--disabled-fill-color);\n",
              "    box-shadow: none;\n",
              "  }\n",
              "\n",
              "  .colab-df-spinner {\n",
              "    border: 2px solid var(--fill-color);\n",
              "    border-color: transparent;\n",
              "    border-bottom-color: var(--fill-color);\n",
              "    animation:\n",
              "      spin 1s steps(1) infinite;\n",
              "  }\n",
              "\n",
              "  @keyframes spin {\n",
              "    0% {\n",
              "      border-color: transparent;\n",
              "      border-bottom-color: var(--fill-color);\n",
              "      border-left-color: var(--fill-color);\n",
              "    }\n",
              "    20% {\n",
              "      border-color: transparent;\n",
              "      border-left-color: var(--fill-color);\n",
              "      border-top-color: var(--fill-color);\n",
              "    }\n",
              "    30% {\n",
              "      border-color: transparent;\n",
              "      border-left-color: var(--fill-color);\n",
              "      border-top-color: var(--fill-color);\n",
              "      border-right-color: var(--fill-color);\n",
              "    }\n",
              "    40% {\n",
              "      border-color: transparent;\n",
              "      border-right-color: var(--fill-color);\n",
              "      border-top-color: var(--fill-color);\n",
              "    }\n",
              "    60% {\n",
              "      border-color: transparent;\n",
              "      border-right-color: var(--fill-color);\n",
              "    }\n",
              "    80% {\n",
              "      border-color: transparent;\n",
              "      border-right-color: var(--fill-color);\n",
              "      border-bottom-color: var(--fill-color);\n",
              "    }\n",
              "    90% {\n",
              "      border-color: transparent;\n",
              "      border-bottom-color: var(--fill-color);\n",
              "    }\n",
              "  }\n",
              "</style>\n",
              "\n",
              "  <script>\n",
              "    async function quickchart(key) {\n",
              "      const quickchartButtonEl =\n",
              "        document.querySelector('#' + key + ' button');\n",
              "      quickchartButtonEl.disabled = true;  // To prevent multiple clicks.\n",
              "      quickchartButtonEl.classList.add('colab-df-spinner');\n",
              "      try {\n",
              "        const charts = await google.colab.kernel.invokeFunction(\n",
              "            'suggestCharts', [key], {});\n",
              "      } catch (error) {\n",
              "        console.error('Error during call to suggestCharts:', error);\n",
              "      }\n",
              "      quickchartButtonEl.classList.remove('colab-df-spinner');\n",
              "      quickchartButtonEl.classList.add('colab-df-quickchart-complete');\n",
              "    }\n",
              "    (() => {\n",
              "      let quickchartButtonEl =\n",
              "        document.querySelector('#df-0173efe9-e08f-4d6e-9867-061275b136f7 button');\n",
              "      quickchartButtonEl.style.display =\n",
              "        google.colab.kernel.accessAllowed ? 'block' : 'none';\n",
              "    })();\n",
              "  </script>\n",
              "</div>\n",
              "\n",
              "    </div>\n",
              "  </div>\n"
            ],
            "application/vnd.google.colaboratory.intrinsic+json": {
              "type": "dataframe",
              "variable_name": "chipo",
              "summary": "{\n  \"name\": \"chipo\",\n  \"rows\": 4622,\n  \"fields\": [\n    {\n      \"column\": \"order_id\",\n      \"properties\": {\n        \"dtype\": \"number\",\n        \"std\": 528,\n        \"min\": 1,\n        \"max\": 1834,\n        \"num_unique_values\": 1834,\n        \"samples\": [\n          644,\n          333,\n          991\n        ],\n        \"semantic_type\": \"\",\n        \"description\": \"\"\n      }\n    },\n    {\n      \"column\": \"quantity\",\n      \"properties\": {\n        \"dtype\": \"number\",\n        \"std\": 0,\n        \"min\": 1,\n        \"max\": 15,\n        \"num_unique_values\": 9,\n        \"samples\": [\n          8,\n          2,\n          15\n        ],\n        \"semantic_type\": \"\",\n        \"description\": \"\"\n      }\n    },\n    {\n      \"column\": \"item_name\",\n      \"properties\": {\n        \"dtype\": \"category\",\n        \"num_unique_values\": 50,\n        \"samples\": [\n          \"Barbacoa Burrito\",\n          \"Crispy Tacos\",\n          \"Chips and Roasted Chili Corn Salsa\"\n        ],\n        \"semantic_type\": \"\",\n        \"description\": \"\"\n      }\n    },\n    {\n      \"column\": \"choice_description\",\n      \"properties\": {\n        \"dtype\": \"category\",\n        \"num_unique_values\": 1043,\n        \"samples\": [\n          \"[Roasted Chili Corn Salsa, [Black Beans, Sour Cream, Cheese, Guacamole]]\",\n          \"[Tomatillo Red Chili Salsa, [Guacamole, Cheese]]\",\n          \"[Fresh Tomato Salsa, [Rice, Cheese, Sour Cream, Guacamole, Lettuce]]\"\n        ],\n        \"semantic_type\": \"\",\n        \"description\": \"\"\n      }\n    },\n    {\n      \"column\": \"item_price\",\n      \"properties\": {\n        \"dtype\": \"category\",\n        \"num_unique_values\": 78,\n        \"samples\": [\n          \"$23.50 \",\n          \"$2.39 \",\n          \"$7.40 \"\n        ],\n        \"semantic_type\": \"\",\n        \"description\": \"\"\n      }\n    }\n  ]\n}"
            }
          },
          "metadata": {},
          "execution_count": 4
        }
      ],
      "source": [
        "chipo.head(10)"
      ]
    },
    {
      "cell_type": "markdown",
      "metadata": {
        "id": "r4VnI1EnHjVu"
      },
      "source": [
        "### Step 5. What is the number of observations in the dataset?"
      ]
    },
    {
      "cell_type": "code",
      "execution_count": null,
      "metadata": {
        "colab": {
          "base_uri": "https://localhost:8080/"
        },
        "id": "VlF2aNLSHjVu",
        "outputId": "1c49fa7f-c272-4861-ecc2-ce6a031b96b5"
      },
      "outputs": [
        {
          "output_type": "execute_result",
          "data": {
            "text/plain": [
              "(4622, 5)"
            ]
          },
          "metadata": {},
          "execution_count": 5
        }
      ],
      "source": [
        "# Solution 1\n",
        "chipo.shape\n"
      ]
    },
    {
      "cell_type": "code",
      "execution_count": null,
      "metadata": {
        "id": "LUGwY9doHjVv"
      },
      "outputs": [],
      "source": [
        "# Solution 2\n",
        "\n"
      ]
    },
    {
      "cell_type": "markdown",
      "metadata": {
        "id": "qOSdFvo7HjVw"
      },
      "source": [
        "### Step 6. What is the number of columns in the dataset?"
      ]
    },
    {
      "cell_type": "code",
      "execution_count": null,
      "metadata": {
        "colab": {
          "base_uri": "https://localhost:8080/"
        },
        "id": "mOfnCi_4HjVw",
        "outputId": "f7d09900-627c-4e7c-b68b-1aab952be54b"
      },
      "outputs": [
        {
          "output_type": "execute_result",
          "data": {
            "text/plain": [
              "5"
            ]
          },
          "metadata": {},
          "execution_count": 7
        }
      ],
      "source": [
        "chipo.shape[1]"
      ]
    },
    {
      "cell_type": "markdown",
      "metadata": {
        "id": "JHHjIpS4HjVw"
      },
      "source": [
        "### Step 7. Print the name of all the columns."
      ]
    },
    {
      "cell_type": "code",
      "execution_count": null,
      "metadata": {
        "colab": {
          "base_uri": "https://localhost:8080/"
        },
        "id": "WJ88QNcgHjVx",
        "outputId": "9177bc7f-29ec-4467-d4cb-da36fffde5bb"
      },
      "outputs": [
        {
          "output_type": "execute_result",
          "data": {
            "text/plain": [
              "Index(['order_id', 'quantity', 'item_name', 'choice_description',\n",
              "       'item_price'],\n",
              "      dtype='object')"
            ]
          },
          "metadata": {},
          "execution_count": 8
        }
      ],
      "source": [
        "chipo.columns"
      ]
    },
    {
      "cell_type": "markdown",
      "metadata": {
        "id": "tqg2OgrJHjVx"
      },
      "source": [
        "### Step 8. How is the dataset indexed?"
      ]
    },
    {
      "cell_type": "code",
      "execution_count": null,
      "metadata": {
        "colab": {
          "base_uri": "https://localhost:8080/"
        },
        "id": "pKm2OEadHjVx",
        "outputId": "98cb8c93-bb28-402e-d932-baa777a28b63"
      },
      "outputs": [
        {
          "output_type": "execute_result",
          "data": {
            "text/plain": [
              "RangeIndex(start=0, stop=4622, step=1)"
            ]
          },
          "metadata": {},
          "execution_count": 9
        }
      ],
      "source": [
        "chipo.index"
      ]
    },
    {
      "cell_type": "markdown",
      "metadata": {
        "id": "7jnmGzrNHjVx"
      },
      "source": [
        "### Step 9. Which was the most-ordered item?"
      ]
    },
    {
      "cell_type": "code",
      "execution_count": null,
      "metadata": {
        "colab": {
          "base_uri": "https://localhost:8080/"
        },
        "id": "rewndVRAHjVx",
        "outputId": "dd1f0f60-cf1a-4cb1-f7c3-db5f5f9c0b19"
      },
      "outputs": [
        {
          "output_type": "execute_result",
          "data": {
            "text/plain": [
              "item_name\n",
              "Chicken Bowl    761\n",
              "Name: quantity, dtype: int64"
            ]
          },
          "metadata": {},
          "execution_count": 11
        }
      ],
      "source": [
        "c=chipo.groupby('item_name')\n",
        "c=c.sum()\n",
        "c=c.sort_values(['quantity'],ascending=False)\n",
        "c.head(1)['quantity']"
      ]
    },
    {
      "cell_type": "markdown",
      "metadata": {
        "id": "b9kCeQNVHjVy"
      },
      "source": [
        "### Step 10. For the most-ordered item, how many items were ordered?"
      ]
    },
    {
      "cell_type": "code",
      "source": [
        "c.head(1)['quantity']"
      ],
      "metadata": {
        "colab": {
          "base_uri": "https://localhost:8080/"
        },
        "id": "XI-b1OkHMwBm",
        "outputId": "db386d0c-5670-4d55-bcac-b23ca6fdedb0"
      },
      "execution_count": null,
      "outputs": [
        {
          "output_type": "execute_result",
          "data": {
            "text/plain": [
              "item_name\n",
              "Chicken Bowl    761\n",
              "Name: quantity, dtype: int64"
            ]
          },
          "metadata": {},
          "execution_count": 14
        }
      ]
    },
    {
      "cell_type": "code",
      "execution_count": null,
      "metadata": {
        "colab": {
          "base_uri": "https://localhost:8080/",
          "height": 122
        },
        "id": "-1ln546sHjVy",
        "outputId": "f981a524-3e04-4987-ebb9-b81782aa9fbe"
      },
      "outputs": [
        {
          "output_type": "execute_result",
          "data": {
            "text/plain": [
              "'[Tomatillo-Red Chili Salsa (Hot), [Black Beans, Rice, Cheese, Sour Cream]][Fresh Tomato Salsa (Mild), [Rice, Cheese, Sour Cream, Guacamole, Lettuce]][Fresh Tomato Salsa, [Fajita Vegetables, Rice, Cheese, Sour Cream, Guacamole]][Tomatillo Red Chili Salsa, [Fajita Vegetables, Black Beans, Sour Cream, Cheese, Lettuce]][Roasted Chili Corn Salsa (Medium), [Pinto Beans, Rice, Fajita Veggies, Cheese, Sour Cream, Lettuce]][Roasted Chili Corn Salsa, [Rice, Black Beans, Cheese, Sour Cream, Guacamole, Lettuce]][Fresh Tomato Salsa, [Rice, Black Beans, Pinto Beans, Cheese, Lettuce]][Fresh Tomato Salsa, [Rice, Black Beans, Cheese, Sour Cream, Lettuce]][Tomatillo Red Chili Salsa, [Rice, Fajita Vegetables, Sour Cream, Lettuce]][Tomatillo Red Chili Salsa, [Rice, Black Beans, Cheese, Sour Cream, Lettuce]][Fresh Tomato Salsa, [Guacamole, Cheese, Sour Cream, Fajita Vegetables, Rice]][Fresh Tomato Salsa, [Rice, Fajita Vegetables, Sour Cream, Cheese, Guacamole]][Tomatillo Green Chili Salsa, [Rice, Sour Cream, Cheese, Guacamole]][Fresh Tomato Salsa, [Fajita Vegetables, Rice, Black Beans, Cheese, Guacamole, Lettuce]][Fresh Tomato Salsa, [Fajita Vegetables, Rice, Lettuce]][Fresh Tomato Salsa (Mild), [Black Beans, Rice, Fajita Veggies, Cheese, Sour Cream, Lettuce]][Roasted Chili Corn Salsa (Medium), [Black Beans, Rice, Fajita Veggies, Cheese, Sour Cream, Guacamole, Lettuce]][Fresh Tomato Salsa, [Rice, Black Beans, Sour Cream]][Fresh Tomato Salsa, [Rice, Cheese, Sour Cream]][[Roasted Chili Corn Salsa (Medium), Tomatillo-Red Chili Salsa (Hot)], [Black Beans, Rice, Fajita Veggies, Guacamole, Lettuce]][Fresh Tomato Salsa, [Rice, Cheese, Lettuce]][Roasted Chili Corn Salsa, [Fajita Vegetables, Rice, Black Beans, Cheese, Sour Cream, Guacamole, Lettuce]][Roasted Chili Corn Salsa, [Fajita Vegetables, Rice, Black Beans, Pinto Beans, Cheese, Sour Cream, Guacamole, Lettuce]][Tomatillo Green Chili Salsa, [Rice, Black Beans, Cheese, Sour Cream]][Roasted Chili Corn Salsa, [Rice, Black Beans, Cheese, Sour Cream]][Tomatillo Green Chili Salsa, [Rice, Pinto Beans, Sour Cream, Lettuce]][Fresh Tomato Salsa, [Fajita Vegetables, Rice, Black Beans, Cheese, Sour Cream, Lettuce]][Tomatillo Red Chili Salsa, [Rice, Cheese, Lettuce]][Fresh Tomato Salsa, [Rice, Black Beans, Cheese]][Fresh Tomato Salsa, [Rice, Black Beans, Cheese, Sour Cream]][Fresh Tomato Salsa, [Rice, Cheese, Sour Cream]][Roasted Chili Corn Salsa, [Fajita Vegetables, Rice, Black Beans, Guacamole, Lettuce]][Tomatillo Green Chili Salsa, [Rice, Sour Cream, Guacamole, Lettuce]][Fresh Tomato Salsa (Mild), [Rice, Fajita Veggies, Cheese, Sour Cream, Lettuce]][Fresh Tomato Salsa, [Rice, Black Beans, Cheese, Sour Cream, Guacamole, Lettuce]][Fresh Tomato Salsa, [Rice, Black Beans, Cheese, Sour Cream, Lettuce]][Fresh Tomato Salsa, [Rice, Black Beans, Cheese, Sour Cream]][Fresh Tomato Salsa, [Fajita Vegetables, Rice, Black Beans, Sour Cream]][Tomatillo Red Chili Salsa, [Rice, Cheese]][Tomatillo-Red Chili Salsa (Hot), [Rice, Fajita Veggies, Cheese, Sour Cream, Lettuce]][Fresh Tomato Salsa, [Rice, Cheese, Sour Cream]][Fresh Tomato Salsa, [Rice, Black Beans, Cheese, Sour Cream, Guacamole]][Tomatillo Red Chili Salsa, [Rice, Black Beans, Cheese, Sour Cream, Guacamole, Lettuce]][[Fresh Tomato Salsa (Mild), Tomatillo-Green Chili Salsa (Medium), Roasted Chili Corn Salsa (Medium)], [Black Beans, Rice, Fajita Veggies, Cheese, Guacamole, Lettuce]][Tomatillo Green Chili Salsa, [Sour Cream, Cheese, Guacamole]][Tomatillo Red Chili Salsa][Roasted Chili Corn Salsa, [Rice, Lettuce]][Fresh Tomato Salsa, [Rice, Black Beans, Cheese, Lettuce]][Fresh Tomato Salsa, [Rice, Black Beans, Cheese, Sour Cream, Guacamole, Lettuce]][Fresh Tomato Salsa, [Rice, Black Beans, Cheese]][Fresh Tomato Salsa (Mild), [Black Beans, Rice, Fajita Veggies, Cheese, Sour Cream, Lettuce]][Tomatillo Green Chili Salsa, [Rice, Black Beans, Cheese]][Roasted Chili Corn Salsa, [Rice, Fajita Vegetables, Black Beans, Sour Cream, Cheese, Lettuce]][Fresh Tomato Salsa, [Fajita Vegetables, Rice, Black Beans, Cheese]][Fresh Tomato Salsa, [Rice, Black Beans, Cheese, Sour Cream, Guacamole, Lettuce]][Fresh Tomato Salsa, [Fajita Vegetables, Rice, Black Beans, Cheese]][Fresh Tomato Salsa, [Rice, Black Beans, Cheese, Sour Cream, Lettuce]][Fresh Tomato Salsa, [Fajita Vegetables, Rice, Cheese, Sour Cream, Guacamole]][Roasted Chili Corn Salsa, [Fajita Vegetables, Rice, Black Beans, Guacamole]][Tomatillo-Red Chili Salsa (Hot), Rice][Fresh Tomato Salsa, [Rice, Black Beans, Sour Cream, Cheese]][Fresh Tomato Salsa, [Rice, Cheese, Lettuce]][Tomatillo Green Chili Salsa, [Rice, Black Beans, Cheese]][Roasted Chili Corn Salsa, [Rice, Pinto Beans, Lettuce, Guacamole]][Roasted Chili Corn Salsa (Medium), [Black Beans, Fajita Veggies, Cheese, Guacamole, Lettuce]][Fresh Tomato Salsa, [Rice, Cheese, Lettuce]][Roasted Chili Corn Salsa, [Rice, Black Beans, Cheese, Sour Cream, Guacamole, Lettuce]][Fresh Tomato Salsa (Mild), [Rice, Cheese, Sour Cream, Lettuce]][Fresh Tomato Salsa, [Rice, Pinto Beans, Sour Cream, Cheese, Lettuce]][Tomatillo Green Chili Salsa, [Rice, Black Beans, Sour Cream, Lettuce]][Roasted Chili Corn Salsa, [Rice, Cheese, Lettuce]][Fresh Tomato Salsa, [Rice, Pinto Beans, Cheese, Sour Cream, Lettuce]][Tomatillo-Red Chili Salsa (Hot), [Black Beans, Rice, Fajita Veggies, Cheese, Lettuce]][Fresh Tomato Salsa, [Fajita Vegetables, Rice, Lettuce]][Tomatillo-Red Chili Salsa (Hot), [Black Beans, Rice, Cheese, Sour Cream, Lettuce]][Fresh Tomato Salsa, [Rice, Black Beans, Cheese, Sour Cream, Guacamole, Lettuce]][Fresh Tomato Salsa, [Fajita Vegetables, Rice, Cheese, Sour Cream, Guacamole]][Tomatillo Green Chili Salsa, [Rice, Sour Cream, Cheese, Guacamole]][Tomatillo Green Chili Salsa, [Fajita Vegetables, Rice, Black Beans, Cheese, Sour Cream, Guacamole, Lettuce]][Roasted Chili Corn Salsa, [Rice, Black Beans, Cheese, Sour Cream, Lettuce]][Fresh Tomato Salsa, [Rice, Black Beans, Sour Cream, Cheese]][Roasted Chili Corn Salsa, [Fajita Vegetables, Rice, Black Beans, Cheese, Sour Cream, Guacamole, Lettuce]][Tomatillo-Green Chili Salsa (Medium), Black Beans][Tomatillo-Green Chili Salsa (Medium), Black Beans][Fresh Tomato Salsa, [Rice, Black Beans, Cheese, Sour Cream, Lettuce]][Roasted Chili Corn Salsa, [Fajita Vegetables, Rice, Black Beans, Cheese, Lettuce]][Tomatillo Red Chili Salsa, [Fajita Vegetables, Rice, Black Beans, Cheese, Sour Cream, Lettuce]][[Fresh Tomato Salsa (Mild), Roasted Chili Corn Salsa (Medium)], [Rice, Sour Cream, Guacamole, Lettuce]][Tomatillo Red Chili Salsa, [Rice, Fajita Vegetables, Black Beans, Sour Cream, Cheese]][Tomatillo Red Chili Salsa, [Rice, Cheese, Sour Cream, Lettuce]][[Roasted Chili Corn Salsa (Medium), Fresh Tomato Salsa (Mild)], [Rice, Black Beans, Fajita Veggies, Cheese, Sour Cream, Guacamole]][Tomatillo Red Chili Salsa, [Rice, Black Beans, Cheese, Sour Cream, Lettuce]][Fresh Tomato Salsa, [Rice, Guacamole]][Fresh Tomato Salsa, [Rice, Black Beans, Cheese, Sour Cream, Guacamole]][Tomatillo Green Chili Salsa, [Rice, Pinto Beans, Sour Cream, Lettuce]][Tomatillo Red Chili Salsa, [Rice, Sour Cream, Cheese, Guacamole]][Roasted Chili Corn Salsa, [Fajita Vegetables, Pinto Beans, Sour Cream, Guacamole]][Tomatillo Green Chili Salsa, [Rice, Cheese, Sour Cream, Lettuce]][Tomatillo-Red Chili Salsa (Hot), [Pinto Beans, Rice, Fajita Veggies, Cheese, Sour Cream, Lettuce]][Fresh Tomato Salsa (Mild), [Rice, Fajita Veggies, Sour Cream, Guacamole]][Fresh Tomato Salsa, [Rice, Cheese, Sour Cream]][Roasted Chili Corn Salsa, [Fajita Vegetables, Rice, Cheese, Sour Cream, Guacamole, Lettuce]][Roasted Chili Corn Salsa, [Rice, Cheese, Sour Cream, Lettuce]][Tomatillo Green Chili Salsa, [Rice, Cheese, Sour Cream, Lettuce]][Fresh Tomato Salsa, [Rice, Black Beans, Cheese, Sour Cream]][Fresh Tomato Salsa, [Fajita Vegetables, Rice, Cheese, Sour Cream, Lettuce]][Fresh Tomato Salsa (Mild), [Pinto Beans, Rice, Cheese, Sour Cream, Lettuce]][Tomatillo-Red Chili Salsa (Hot), [Rice, Fajita Veggies, Cheese, Sour Cream, Lettuce]][Fresh Tomato Salsa, [Fajita Vegetables, Rice, Black Beans, Sour Cream]][Roasted Chili Corn Salsa, [Fajita Vegetables, Rice, Black Beans, Cheese, Sour Cream]][Tomatillo Red Chili Salsa, [Rice, Black Beans, Cheese, Lettuce, Guacamole]][Fresh Tomato Salsa, [Fajita Vegetables, Rice, Lettuce]][Fresh Tomato Salsa, [Rice, Black Beans, Cheese, Lettuce]][Fresh Tomato Salsa, [Fajita Vegetables, Rice, Black Beans, Cheese, Sour Cream, Lettuce]][Tomatillo Green Chili Salsa, [Fajita Vegetables, Rice, Black Beans, Cheese, Sour Cream, Lettuce]][Tomatillo Green Chili Salsa, [Rice, Sour Cream, Cheese, Guacamole]][Fresh Tomato Salsa, [Rice, Fajita Vegetables, Pinto Beans, Sour Cream, Cheese, Lettuce, Guacamole]][[Fresh Tomato Salsa (Mild), Tomatillo-Red Chili Salsa (Hot)], [Black Beans, Rice, Cheese, Sour Cream]][Roasted Chili Corn Salsa (Medium), [Black Beans, Rice, Sour Cream, Guacamole]][Roasted Chili Corn Salsa (Medium), [Rice, Cheese]][Roasted Chili Corn Salsa (Medium), [Black Beans, Rice, Cheese, Sour Cream, Lettuce]][Fresh Tomato Salsa, [Rice, Sour Cream, Cheese, Lettuce]][Fresh Tomato Salsa][Fresh Tomato Salsa, [Rice, Cheese, Black Beans]][Fresh Tomato Salsa, [Rice, Cheese, Sour Cream, Lettuce]][Fresh Tomato Salsa, [Rice, Cheese, Sour Cream, Lettuce]][Fresh Tomato Salsa, [Fajita Vegetables, Rice]][[Fresh Tomato Salsa (Mild), Tomatillo-Red Chili Salsa (Hot)], [Black Beans, Rice, Cheese, Sour Cream]][Fresh Tomato Salsa, [Fajita Vegetables, Rice]][[Tomatillo-Green Chili Salsa (Medium), Roasted Chili Corn Salsa (Medium)], [Black Beans, Rice, Cheese, Sour Cream, Lettuce]][Fresh Tomato Salsa, [Fajita Vegetables, Rice, Black Beans, Cheese, Guacamole, Lettuce]][Tomatillo Green Chili Salsa, [Fajita Vegetables, Rice, Cheese, Lettuce]][Fresh Tomato Salsa, [Rice, Fajita Vegetables]][Tomatillo Red Chili Salsa, [Fajita Vegetables, Rice, Black Beans, Cheese, Sour Cream, Guacamole, Lettuce]][Fresh Tomato Salsa, [Fajita Vegetables, Rice, Lettuce]][Fresh Tomato Salsa, [Rice, Black Beans, Cheese]][Fresh Tomato Salsa, [Rice, Cheese, Sour Cream, Lettuce]][Tomatillo Red Chili Salsa, [Rice, Black Beans, Cheese, Sour Cream, Lettuce]][Roasted Chili Corn Salsa, [Rice, Pinto Beans, Cheese, Sour Cream, Guacamole, Lettuce]][Roasted Chili Corn Salsa, [Rice, Cheese, Lettuce]][Fresh Tomato Salsa, [Fajita Vegetables, Rice]][Roasted Chili Corn Salsa, [Fajita Vegetables, Rice, Pinto Beans, Cheese, Sour Cream, Lettuce]][[Roasted Chili Corn Salsa (Medium), Tomatillo-Red Chili Salsa (Hot)], [Pinto Beans, Rice, Fajita Veggies]][Roasted Chili Corn Salsa, [Fajita Vegetables, Rice, Black Beans, Cheese]][Fresh Tomato Salsa, [Fajita Vegetables, Rice, Black Beans, Cheese, Guacamole, Lettuce]][Roasted Chili Corn Salsa, [Rice, Black Beans, Cheese, Guacamole]][Fresh Tomato Salsa, [Rice, Black Beans, Cheese, Sour Cream, Lettuce]][Roasted Chili Corn Salsa, [Rice, Black Beans, Cheese, Sour Cream, Guacamole]][Fresh Tomato Salsa, [Rice, Black Beans, Cheese, Guacamole]][[Fresh Tomato Salsa (Mild), Tomatillo-Red Chili Salsa (Hot)], [Black Beans, Rice, Cheese, Sour Cream, Guacamole]][Tomatillo-Red Chili Salsa (Hot), [Pinto Beans, Rice, Cheese, Sour Cream, Guacamole]][Roasted Chili Corn Salsa, [Rice, Black Beans, Sour Cream, Guacamole]][Tomatillo Green Chili Salsa, [Rice, Cheese, Guacamole, Lettuce]][Fresh Tomato Salsa, [Fajita Vegetables, Rice]][Fresh Tomato Salsa, [Rice, Black Beans]][Fresh Tomato Salsa, [Fajita Vegetables, Rice]][Fresh Tomato Salsa, [Fajita Vegetables, Rice, Cheese, Sour Cream, Guacamole, Lettuce]][Fresh Tomato Salsa (Mild), [Rice, Black Beans, Fajita Veggies, Cheese, Guacamole, Lettuce]][Roasted Chili Corn Salsa, [Rice, Black Beans, Cheese, Sour Cream, Lettuce]][Roasted Chili Corn Salsa, [Fajita Vegetables, Black Beans, Guacamole]][Tomatillo Green Chili Salsa, [Rice, Pinto Beans, Sour Cream, Lettuce]][[Fresh Tomato Salsa (Mild), Tomatillo-Red Chili Salsa (Hot)], [Black Beans, Rice, Cheese, Sour Cream]][Fresh Tomato Salsa (Mild), [Black Beans, Rice, Cheese]][Tomatillo Red Chili Salsa, [Black Beans, Cheese, Sour Cream]][Fresh Tomato Salsa, [Rice, Cheese, Sour Cream, Lettuce]][Fresh Tomato Salsa, [Rice, Fajita Vegetables]][Tomatillo Red Chili Salsa, [Rice, Cheese, Lettuce]][Tomatillo Green Chili Salsa, [Rice, Black Beans, Pinto Beans, Guacamole, Lettuce]][Roasted Chili Corn Salsa, [Rice, Black Beans, Sour Cream]][Tomatillo Red Chili Salsa, [Fajita Vegetables, Rice, Black Beans, Cheese, Sour Cream]][Tomatillo-Green Chili Salsa (Medium), [Fajita Veggies, Cheese, Guacamole, Lettuce]][Roasted Chili Corn Salsa, [Rice, Black Beans, Cheese, Lettuce, Guacamole]][Roasted Chili Corn Salsa (Medium), [Rice, Cheese]][Fresh Tomato Salsa, [Rice, Lettuce]][Roasted Chili Corn Salsa, [Rice, Black Beans, Cheese]][Tomatillo Red Chili Salsa, [Fajita Vegetables, Rice, Cheese, Guacamole]][Fresh Tomato Salsa, [Rice, Sour Cream, Guacamole]][[Fresh Tomato Salsa (Mild), Roasted Chili Corn Salsa (Medium)], [Rice, Fajita Veggies]][Roasted Chili Corn Salsa, [Fajita Vegetables, Rice, Sour Cream, Lettuce]][Fresh Tomato Salsa, [Fajita Vegetables, Rice, Black Beans, Pinto Beans, Cheese, Sour Cream, Guacamole]][[Roasted Chili Corn Salsa (Medium), Tomatillo-Red Chili Salsa (Hot)], [Pinto Beans, Rice, Fajita Veggies, Cheese, Lettuce]][Fresh Tomato Salsa (Mild), [Black Beans, Rice, Sour Cream, Guacamole]][Fresh Tomato Salsa, [Fajita Vegetables, Rice]][Fresh Tomato Salsa, [Rice, Black Beans, Cheese, Sour Cream, Guacamole, Lettuce]][Fresh Tomato Salsa, [Rice, Black Beans, Cheese, Sour Cream, Lettuce]][Fresh Tomato Salsa, [Fajita Vegetables, Pinto Beans, Guacamole, Lettuce]][Fresh Tomato Salsa, [Rice, Cheese, Sour Cream, Lettuce]][Tomatillo Red Chili Salsa, [Fajita Vegetables, Rice, Black Beans, Cheese, Sour Cream]][Fresh Tomato Salsa, [Rice, Black Beans, Cheese]][Fresh Tomato Salsa, [Rice, Black Beans, Cheese, Sour Cream, Lettuce]][Fresh Tomato Salsa, [Sour Cream, Lettuce, Rice, Cheese]][Roasted Chili Corn Salsa, [Rice, Fajita Vegetables, Black Beans, Sour Cream, Cheese, Lettuce]][Roasted Chili Corn Salsa, [Fajita Vegetables, Rice, Black Beans, Pinto Beans, Cheese, Guacamole, Lettuce]][Tomatillo Green Chili Salsa, [Rice, Sour Cream, Cheese, Guacamole]][Fresh Tomato Salsa (Mild), [Black Beans, Rice, Fajita Veggies, Cheese, Sour Cream, Lettuce]][[Fresh Tomato Salsa (Mild), Roasted Chili Corn Salsa (Medium), Tomatillo-Red Chili Salsa (Hot)], [Black Beans, Rice, Fajita Veggies, Cheese, Sour Cream, Lettuce]][Fresh Tomato Salsa (Mild), [Black Beans, Rice, Cheese, Sour Cream, Lettuce]][Fresh Tomato Salsa, [Rice, Cheese, Lettuce]][Fresh Tomato Salsa, [Rice, Cheese, Sour Cream, Lettuce]][Fresh Tomato Salsa, [Fajita Vegetables, Rice, Cheese, Guacamole]][Fresh Tomato Salsa, [Rice, Guacamole, Lettuce]][Roasted Chili Corn Salsa, [Fajita Vegetables, Lettuce, Black Beans]][Roasted Chili Corn Salsa, [Fajita Vegetables, Cheese, Lettuce]][Roasted Chili Corn Salsa, [Rice, Fajita Vegetables, Cheese, Lettuce]][Fresh Tomato Salsa, [Fajita Vegetables, Rice]][Fresh Tomato Salsa, [Fajita Vegetables, Rice, Sour Cream, Lettuce]][Fresh Tomato Salsa, [Fajita Vegetables, Rice, Cheese, Sour Cream, Guacamole, Lettuce]][Fresh Tomato Salsa, [Rice, Fajita Vegetables, Cheese, Lettuce, Guacamole]][Tomatillo Green Chili Salsa, [Rice, Pinto Beans, Sour Cream, Lettuce]][Tomatillo Green Chili Salsa, [Rice, Cheese, Sour Cream, Lettuce]][Fresh Tomato Salsa, [Rice, Cheese, Sour Cream, Guacamole, Lettuce]][Tomatillo Green Chili Salsa, [Fajita Vegetables, Rice, Black Beans]][Tomatillo-Red Chili Salsa (Hot), [Rice, Cheese, Sour Cream, Lettuce]][Tomatillo-Red Chili Salsa (Hot), [Rice, Fajita Veggies, Sour Cream, Lettuce]][Fresh Tomato Salsa, [Rice, Fajita Vegetables, Sour Cream, Cheese, Guacamole]][Tomatillo Red Chili Salsa, [Rice, Black Beans, Cheese, Sour Cream, Lettuce]][[Fresh Tomato Salsa (Mild), Tomatillo-Red Chili Salsa (Hot)], [Black Beans, Rice, Cheese, Sour Cream]][Tomatillo-Red Chili Salsa (Hot), [Black Beans, Rice, Cheese, Lettuce]][Roasted Chili Corn Salsa (Medium), [Rice, Cheese, Lettuce]][Tomatillo-Red Chili Salsa (Hot), [Black Beans, Rice, Cheese, Lettuce]][Tomatillo Red Chili Salsa, [Rice, Pinto Beans, Cheese, Lettuce]][Fresh Tomato Salsa, [Rice, Cheese, Sour Cream, Guacamole]][Roasted Chili Corn Salsa, [Rice, Cheese, Sour Cream, Guacamole]][Fresh Tomato Salsa, [Fajita Vegetables, Rice]][[Fresh Tomato Salsa (Mild), Roasted Chili Corn Salsa (Medium)], [Rice, Fajita Veggies]][Tomatillo Red Chili Salsa, [Rice, Black Beans, Cheese, Sour Cream, Guacamole, Lettuce]][[Fresh Tomato Salsa (Mild), Roasted Chili Corn Salsa (Medium), Tomatillo-Red Chili Salsa (Hot)], [Black Beans, Rice, Cheese, Sour Cream]][Tomatillo-Red Chili Salsa (Hot), [Pinto Beans, Rice, Fajita Veggies, Cheese, Sour Cream]][Fresh Tomato Salsa, [Rice, Black Beans, Cheese, Sour Cream, Guacamole]][Roasted Chili Corn Salsa, [Fajita Vegetables, Rice, Pinto Beans, Cheese, Guacamole, Lettuce]][Fresh Tomato Salsa (Mild), [Pinto Beans, Rice, Fajita Veggies, Cheese, Sour Cream, Guacamole, Lettuce]][Fresh Tomato Salsa, [Sour Cream, Cheese]][Fresh Tomato Salsa, [Rice, Cheese, Lettuce]][Tomatillo-Green Chili Salsa (Medium), [Pinto Beans, Rice, Fajita Veggies, Lettuce]][Fresh Tomato Salsa, [Rice, Black Beans, Cheese]][Roasted Chili Corn Salsa (Medium), [Rice, Fajita Veggies, Cheese]][Fresh Tomato Salsa (Mild), [Black Beans, Rice, Fajita Veggies, Cheese]][[Roasted Chili Corn Salsa (Medium), Tomatillo-Red Chili Salsa (Hot)], [Pinto Beans, Rice, Fajita Veggies, Cheese]][Roasted Chili Corn Salsa, [Rice, Black Beans, Cheese]][Tomatillo-Red Chili Salsa (Hot), [Rice, Cheese, Sour Cream, Lettuce]][[Fresh Tomato Salsa (Mild), Roasted Chili Corn Salsa (Medium)], [Black Beans, Rice, Fajita Veggies, Cheese, Sour Cream, Guacamole, Lettuce]][Roasted Chili Corn Salsa, [Rice, Black Beans, Cheese, Sour Cream, Lettuce]][Fresh Tomato Salsa, [Rice, Fajita Vegetables, Sour Cream, Cheese, Guacamole]][[Fresh Tomato Salsa (Mild), Tomatillo-Red Chili Salsa (Hot)], [Black Beans, Rice, Cheese, Sour Cream]][Tomatillo Red Chili Salsa, [Rice, Black Beans, Cheese, Sour Cream, Lettuce]][[Tomatillo-Green Chili Salsa (Medium), Roasted Chili Corn Salsa (Medium)], [Black Beans, Rice, Fajita Veggies, Cheese, Sour Cream, Lettuce]][Tomatillo Red Chili Salsa, [Rice, Black Beans, Cheese, Lettuce, Guacamole]][[Fresh Tomato Salsa (Mild), Tomatillo-Red Chili Salsa (Hot)], [Black Beans, Rice, Cheese, Sour Cream]][Tomatillo Green Chili Salsa, [Rice, Cheese, Lettuce]][Fresh Tomato Salsa, [Fajita Vegetables, Rice]][Tomatillo-Red Chili Salsa (Hot), [Sour Cream, Cheese, Fajita Veggies, Guacamole, Rice, Pinto Beans]][[Roasted Chili Corn Salsa (Medium), Tomatillo-Red Chili Salsa (Hot), Fresh Tomato Salsa (Mild), Tomatillo-Green Chili Salsa (Medium)], [Rice, Black Beans, Fajita Veggies, Cheese, Sour Cream]][Tomatillo Green Chili Salsa, [Rice, Black Beans, Sour Cream, Cheese]][Roasted Chili Corn Salsa, [Rice, Cheese, Sour Cream, Lettuce]][Fresh Tomato Salsa, [Fajita Vegetables, Rice]][Tomatillo-Red Chili Salsa (Hot), [Black Beans, Rice, Cheese, Lettuce]][Roasted Chili Corn Salsa (Medium), [Rice, Cheese, Lettuce]][Fresh Tomato Salsa, [Rice, Black Beans, Pinto Beans, Guacamole, Lettuce]][Tomatillo Green Chili Salsa, [Rice, Black Beans, Cheese, Sour Cream, Lettuce]][Fresh Tomato Salsa, [Fajita Vegetables, Rice, Guacamole, Lettuce]][Fresh Tomato Salsa, [Rice, Fajita Vegetables]][Fresh Tomato Salsa, [Rice, Black Beans, Cheese]][[Fresh Tomato Salsa (Mild), Tomatillo-Red Chili Salsa (Hot)], [Black Beans, Rice, Cheese, Sour Cream]][Roasted Chili Corn Salsa, [Rice, Black Beans, Cheese, Lettuce]][Tomatillo Red Chili Salsa, [Rice, Black Beans, Sour Cream, Cheese, Lettuce]][Tomatillo Green Chili Salsa, [Rice, Black Beans, Sour Cream, Cheese]][[Fresh Tomato Salsa (Mild), Roasted Chili Corn Salsa (Medium), Tomatillo-Red Chili Salsa (Hot)], [Pinto Beans, Rice, Fajita Veggies, Cheese, Sour Cream, Lettuce]][Fresh Tomato Salsa (Mild), [Rice, Black Beans, Fajita Veggies, Cheese, Guacamole, Lettuce]][Fresh Tomato Salsa, [Rice, Black Beans, Cheese, Sour Cream]][Tomatillo Green Chili Salsa, [Rice, Cheese, Guacamole]][Tomatillo-Green Chili Salsa (Medium), [Black Beans, Rice, Cheese, Sour Cream]][Fresh Tomato Salsa (Mild), [Pinto Beans, Rice, Sour Cream, Guacamole]][Fresh Tomato Salsa (Mild), [Black Beans, Rice, Cheese, Sour Cream, Guacamole, Lettuce]][Tomatillo Red Chili Salsa, [Rice, Black Beans, Sour Cream, Cheese, Lettuce]][Fresh Tomato Salsa (Mild), [Rice, Pinto Beans, Cheese, Guacamole, Lettuce]][Fresh Tomato Salsa, [Rice, Black Beans, Cheese, Guacamole, Lettuce]][Tomatillo Green Chili Salsa, [Rice, Black Beans, Cheese, Guacamole]][Tomatillo Red Chili Salsa, [Fajita Vegetables, Rice, Black Beans, Cheese, Guacamole, Lettuce]][Fresh Tomato Salsa, [Fajita Vegetables, Rice, Pinto Beans, Cheese, Guacamole, Lettuce]][Tomatillo Red Chili Salsa, [Rice, Pinto Beans, Guacamole, Lettuce]][Fresh Tomato Salsa, [Rice, Black Beans, Cheese]][Fresh Tomato Salsa, [Fajita Vegetables, Rice, Sour Cream, Lettuce]][Fresh Tomato Salsa (Mild), [Rice, Black Beans, Fajita Veggies, Cheese, Sour Cream, Lettuce]][Tomatillo Green Chili Salsa, [Rice, Sour Cream, Guacamole]][Tomatillo Red Chili Salsa, [Rice, Black Beans, Sour Cream, Cheese, Lettuce]][Fresh Tomato Salsa, [Rice, Black Beans, Cheese, Guacamole, Lettuce]][Roasted Chili Corn Salsa, [Fajita Vegetables, Rice, Pinto Beans, Cheese, Sour Cream, Guacamole, Lettuce]][Roasted Chili Corn Salsa, [Rice, Pinto Beans, Cheese, Sour Cream, Guacamole, Lettuce]][Roasted Chili Corn Salsa, [Rice, Black Beans, Cheese, Sour Cream, Lettuce]][[Fresh Tomato Salsa (Mild), Tomatillo-Red Chili Salsa (Hot)], [Black Beans, Rice, Cheese, Sour Cream, Guacamole]][[Fresh Tomato Salsa (Mild), Roasted Chili Corn Salsa (Medium)], [Black Beans, Guacamole]][Fresh Tomato Salsa, [Rice, Black Beans, Lettuce]][[Fresh Tomato Salsa (Mild), Roasted Chili Corn Salsa (Medium)], [Rice, Fajita Veggies]][Fresh Tomato Salsa, [Sour Cream, Guacamole, Lettuce]][Fresh Tomato Salsa, Cheese][Tomatillo-Red Chili Salsa (Hot), [Pinto Beans, Cheese, Sour Cream, Rice, Fajita Veggies, Guacamole]][Fresh Tomato Salsa, [Fajita Vegetables, Rice]][Tomatillo Red Chili Salsa, [Rice, Black Beans]][Fresh Tomato Salsa, [Black Beans, Cheese, Sour Cream]][Tomatillo Green Chili Salsa, [Fajita Vegetables, Rice, Cheese, Guacamole, Lettuce]][Fresh Tomato Salsa, [Fajita Vegetables, Rice]][[Fresh Tomato Salsa (Mild), Tomatillo-Red Chili Salsa (Hot)], [Guacamole, Rice, Black Beans, Cheese, Sour Cream]][Roasted Chili Corn Salsa (Medium), [Black Beans, Rice, Cheese, Sour Cream, Lettuce]][Fresh Tomato Salsa, [Fajita Vegetables, Rice, Guacamole, Lettuce]][Fresh Tomato Salsa, [Rice, Black Beans, Cheese]][[Fresh Tomato Salsa (Mild), Roasted Chili Corn Salsa (Medium)], [Black Beans, Cheese, Guacamole]][Fresh Tomato Salsa, [Rice, Black Beans, Lettuce]][Fresh Tomato Salsa, [Rice, Pinto Beans, Sour Cream, Cheese, Lettuce]][Fresh Tomato Salsa, [Rice, Cheese, Lettuce]][Fresh Tomato Salsa, [Fajita Vegetables, Rice, Black Beans, Cheese, Guacamole]][Tomatillo Red Chili Salsa, [Rice, Black Beans, Cheese, Sour Cream]][Fresh Tomato Salsa, [Rice, Black Beans, Sour Cream, Cheese, Guacamole]][Roasted Chili Corn Salsa, [Fajita Vegetables, Rice, Black Beans, Lettuce]][Roasted Chili Corn Salsa, [Fajita Vegetables, Black Beans, Pinto Beans, Cheese, Lettuce]][Tomatillo Red Chili Salsa, [Rice, Black Beans, Sour Cream, Cheese, Lettuce]][Tomatillo Red Chili Salsa, [Rice, Cheese, Sour Cream, Lettuce]][Roasted Chili Corn Salsa, [Rice, Black Beans, Guacamole]][Fresh Tomato Salsa, [Fajita Vegetables, Rice]][Fresh Tomato Salsa, [Rice, Black Beans, Cheese, Sour Cream, Guacamole]][Tomatillo Green Chili Salsa, [Rice, Pinto Beans, Sour Cream, Lettuce]][Fresh Tomato Salsa][Fresh Tomato Salsa, [Fajita Vegetables, Rice, Lettuce]][Roasted Chili Corn Salsa, [Rice, Black Beans, Cheese, Sour Cream, Lettuce]][Fresh Tomato Salsa, [Fajita Vegetables, Rice, Lettuce]][Fresh Tomato Salsa, [Rice, Pinto Beans, Cheese, Sour Cream, Lettuce]][Roasted Chili Corn Salsa, [Cheese, Lettuce, Fajita Vegetables, Rice]][Roasted Chili Corn Salsa, [Fajita Vegetables, Rice, Cheese, Sour Cream, Lettuce]][Roasted Chili Corn Salsa, [Fajita Vegetables, Rice, Cheese, Sour Cream]][Roasted Chili Corn Salsa, [Fajita Vegetables, Rice, Cheese, Sour Cream, Lettuce]][Fresh Tomato Salsa, [Rice, Black Beans, Cheese, Sour Cream, Lettuce]][Fresh Tomato Salsa, [Rice, Lettuce]][Fresh Tomato Salsa, [Rice, Cheese, Sour Cream, Lettuce]][Roasted Chili Corn Salsa, [Fajita Vegetables, Rice, Cheese, Sour Cream, Lettuce]][Roasted Chili Corn Salsa, [Rice, Pinto Beans, Cheese, Sour Cream, Lettuce]][Roasted Chili Corn Salsa, [Rice, Cheese]][Fresh Tomato Salsa, [Rice, Black Beans, Cheese, Sour Cream, Lettuce]][Fresh Tomato Salsa, [Rice, Black Beans, Sour Cream, Guacamole, Lettuce]][Fresh Tomato Salsa, [Rice, Black Beans, Cheese, Sour Cream, Guacamole]][Fresh Tomato Salsa, [Rice, Cheese, Lettuce]][[Fresh Tomato Salsa (Mild), Roasted Chili Corn Salsa (Medium)], [Rice, Fajita Veggies]][Fresh Tomato Salsa, [Rice, Pinto Beans, Cheese, Sour Cream, Lettuce]][Fresh Tomato Salsa, [Fajita Vegetables, Rice, Black Beans, Cheese, Guacamole, Lettuce]][Fresh Tomato Salsa, [Rice, Fajita Vegetables]][Roasted Chili Corn Salsa (Medium), [Black Beans, Rice, Cheese, Guacamole, Lettuce]][Fresh Tomato Salsa, [Rice, Black Beans, Cheese, Sour Cream]][Tomatillo Green Chili Salsa, [Rice, Cheese, Sour Cream, Guacamole]][Tomatillo Green Chili Salsa, [Fajita Vegetables, Rice, Pinto Beans, Cheese, Sour Cream, Lettuce]][Fresh Tomato Salsa (Mild), [Black Beans, Rice, Fajita Veggies, Cheese, Sour Cream, Lettuce]][Fresh Tomato Salsa, [Rice, Black Beans, Cheese, Lettuce]][Fresh Tomato Salsa, [Fajita Vegetables, Rice, Black Beans, Pinto Beans, Cheese, Sour Cream, Guacamole, Lettuce]][Fresh Tomato Salsa, [Rice, Cheese, Sour Cream, Lettuce]][Fresh Tomato Salsa, [Rice, Black Beans, Cheese, Sour Cream, Lettuce]][Roasted Chili Corn Salsa, [Rice, Black Beans, Cheese, Sour Cream, Lettuce]][Tomatillo-Red Chili Salsa (Hot), [Black Beans, Rice, Cheese, Lettuce]][Fresh Tomato Salsa, [Rice, Black Beans, Cheese, Sour Cream, Guacamole, Lettuce]][Fresh Tomato Salsa, [Rice, Black Beans, Cheese, Sour Cream, Guacamole]][[Fresh Tomato Salsa (Mild), Roasted Chili Corn Salsa (Medium)], [Black Beans, Rice, Fajita Veggies, Lettuce]][Fresh Tomato Salsa, [Rice, Pinto Beans, Cheese]][Tomatillo Red Chili Salsa, [Rice, Black Beans, Sour Cream, Cheese, Lettuce]][Tomatillo Red Chili Salsa, [Rice, Black Beans, Sour Cream, Cheese, Lettuce]][Tomatillo Green Chili Salsa, [Rice, Cheese, Sour Cream, Lettuce]][Tomatillo Red Chili Salsa, [Rice, Black Beans, Sour Cream, Guacamole, Lettuce]][Tomatillo Green Chili Salsa, [Rice, Black Beans, Sour Cream, Lettuce]][Roasted Chili Corn Salsa, [Rice, Black Beans, Cheese, Guacamole]][[Fresh Tomato Salsa (Mild), Roasted Chili Corn Salsa (Medium)], [Rice, Cheese, Sour Cream, Guacamole, Lettuce]][Roasted Chili Corn Salsa (Medium), [Pinto Beans, Rice, Cheese, Sour Cream, Lettuce]][Roasted Chili Corn Salsa, [Fajita Vegetables, Rice, Pinto Beans, Cheese, Sour Cream, Lettuce]][Fresh Tomato Salsa, [Fajita Vegetables, Rice, Pinto Beans, Cheese, Sour Cream, Lettuce]][Tomatillo-Red Chili Salsa (Hot), [Black Beans, Cheese, Lettuce]][Fresh Tomato Salsa, [Guacamole, Cheese, Sour Cream, Fajita Vegetables, Rice]][Fresh Tomato Salsa, Cheese][Fresh Tomato Salsa, [Rice, Black Beans, Guacamole, Lettuce]][Roasted Chili Corn Salsa, [Rice, Black Beans, Cheese, Guacamole]][Tomatillo-Red Chili Salsa (Hot), [Rice, Cheese, Sour Cream, Lettuce]][Fresh Tomato Salsa, [Black Beans, Cheese, Guacamole, Lettuce]][Tomatillo-Red Chili Salsa (Hot), [Rice, Fajita Veggies, Pinto Beans, Sour Cream, Cheese, Guacamole]][Fresh Tomato Salsa, [Fajita Vegetables, Rice, Black Beans, Cheese, Sour Cream, Lettuce]][Fresh Tomato Salsa, [Fajita Vegetables, Rice]][Tomatillo-Red Chili Salsa (Hot), [Black Beans, Rice, Cheese, Lettuce]][Tomatillo-Red Chili Salsa (Hot), [Rice, Black Beans, Cheese, Lettuce]][Tomatillo Red Chili Salsa, [Fajita Vegetables, Rice, Black Beans, Cheese, Sour Cream, Guacamole, Lettuce]][Fresh Tomato Salsa, [Fajita Vegetables, Rice, Black Beans, Cheese, Sour Cream, Guacamole, Lettuce]][Fresh Tomato Salsa, [Fajita Vegetables, Rice, Sour Cream, Guacamole]][Fresh Tomato Salsa, [Rice, Black Beans, Cheese]][Tomatillo Red Chili Salsa, [Rice, Fajita Vegetables, Black Beans, Cheese, Lettuce, Guacamole]][[Roasted Chili Corn Salsa (Medium), Fresh Tomato Salsa (Mild)], [Rice, Fajita Veggies]][[Tomatillo-Green Chili Salsa (Medium), Roasted Chili Corn Salsa (Medium)], [Black Beans, Rice, Fajita Veggies, Cheese, Sour Cream, Guacamole]][Fresh Tomato Salsa, [Rice, Cheese, Sour Cream, Lettuce]][Fresh Tomato Salsa, [Rice, Black Beans, Cheese, Sour Cream]][Tomatillo Red Chili Salsa, Fajita Vegetables][Fresh Tomato Salsa, [Fajita Vegetables, Rice, Guacamole, Lettuce]][Fresh Tomato Salsa, [Sour Cream, Fajita Vegetables, Rice, Guacamole, Cheese]][Fresh Tomato Salsa, [Fajita Vegetables, Rice, Black Beans, Cheese, Sour Cream, Guacamole, Lettuce]][Fresh Tomato Salsa (Mild), [Black Beans, Rice, Fajita Veggies, Cheese, Sour Cream, Guacamole, Lettuce]][Fresh Tomato Salsa, [Rice, Black Beans, Sour Cream, Guacamole, Lettuce]][Fresh Tomato Salsa (Mild), [Rice, Fajita Veggies, Cheese, Lettuce]][Tomatillo Red Chili Salsa, Rice][Roasted Chili Corn Salsa, [Rice, Black Beans, Sour Cream, Cheese, Guacamole]][Fresh Tomato Salsa, [Rice, Cheese, Lettuce]][Fresh Tomato Salsa, [Fajita Vegetables, Rice, Cheese, Sour Cream, Guacamole, Lettuce]][Tomatillo Red Chili Salsa, [Fajita Vegetables, Rice, Black Beans, Cheese, Lettuce]][Tomatillo Red Chili Salsa, [Rice, Black Beans, Cheese, Sour Cream, Guacamole, Lettuce]][Fresh Tomato Salsa (Mild), [Rice, Black Beans, Sour Cream, Guacamole]][Roasted Chili Corn Salsa, [Fajita Vegetables, Rice, Pinto Beans, Cheese, Sour Cream, Lettuce]][Fresh Tomato Salsa, [Fajita Vegetables, Rice, Lettuce]][Fresh Tomato Salsa, [Fajita Vegetables, Rice, Sour Cream, Lettuce]][Tomatillo Green Chili Salsa, [Rice, Pinto Beans, Sour Cream, Lettuce]][Tomatillo Red Chili Salsa, [Rice, Black Beans, Sour Cream, Cheese, Lettuce, Guacamole]][Fresh Tomato Salsa, [Rice, Black Beans, Cheese, Guacamole, Lettuce]][Fresh Tomato Salsa, [Rice, Black Beans, Cheese, Guacamole, Lettuce]][Roasted Chili Corn Salsa, [Rice, Pinto Beans, Cheese, Sour Cream, Lettuce]][Fresh Tomato Salsa, [Pinto Beans, Cheese, Guacamole]][Fresh Tomato Salsa, [Rice, Black Beans, Cheese]][Fresh Tomato Salsa, [Rice, Cheese, Sour Cream]][Fresh Tomato Salsa, [Rice, Black Beans, Guacamole, Lettuce]][Fresh Tomato Salsa (Mild), [Pinto Beans, Rice, Cheese, Sour Cream, Guacamole, Lettuce]][[Roasted Chili Corn Salsa (Medium), Fresh Tomato Salsa (Mild)], [Rice, Fajita Veggies]][Fresh Tomato Salsa, [Rice, Fajita Vegetables, Black Beans]][Fresh Tomato Salsa, [Cheese, Guacamole, Sour Cream, Fajita Vegetables, Rice]][Fresh Tomato Salsa, [Rice, Cheese, Lettuce]][Fresh Tomato Salsa, [Rice, Black Beans, Cheese, Sour Cream, Lettuce]][Fresh Tomato Salsa, [Rice, Cheese, Sour Cream, Lettuce]][Roasted Chili Corn Salsa, [Rice, Black Beans, Sour Cream, Cheese, Guacamole]][Tomatillo-Red Chili Salsa (Hot), [Black Beans, Rice, Cheese, Lettuce]][Fresh Tomato Salsa (Mild), [Rice, Cheese, Sour Cream, Guacamole, Lettuce]][Fresh Tomato Salsa, [Fajita Vegetables, Rice, Cheese, Sour Cream, Lettuce]][Tomatillo Green Chili Salsa, [Rice, Pinto Beans, Cheese, Lettuce]][Fresh Tomato Salsa, [Fajita Vegetables, Rice, Sour Cream, Guacamole, Lettuce]][Tomatillo Red Chili Salsa, [Rice, Black Beans, Pinto Beans, Cheese, Sour Cream]][Fresh Tomato Salsa, [Fajita Vegetables, Rice, Cheese, Lettuce]][Fresh Tomato Salsa, [Rice, Cheese, Sour Cream]][Fresh Tomato Salsa, [Fajita Vegetables, Rice, Black Beans, Cheese, Guacamole, Lettuce]][Fresh Tomato Salsa, [Fajita Vegetables, Rice, Pinto Beans, Cheese, Sour Cream, Guacamole, Lettuce]][Fresh Tomato (Mild), [Rice, Sour Cream, Cheese]][Fresh Tomato (Mild), [Guacamole, Rice]][Roasted Chili Corn Salsa, [Rice, Cheese, Sour Cream, Guacamole, Lettuce]][Tomatillo Green Chili Salsa, [Rice, Pinto Beans, Sour Cream, Lettuce]][Tomatillo Red Chili Salsa, [Rice, Black Beans, Cheese, Lettuce]][Tomatillo-Green Chili Salsa (Medium), [Black Beans, Rice, Fajita Veggies, Cheese, Sour Cream, Guacamole, Lettuce]][[Fresh Tomato Salsa (Mild), Tomatillo-Green Chili Salsa (Medium)], [Rice, Fajita Veggies, Cheese, Sour Cream, Lettuce]][Roasted Chili Corn Salsa (Medium), [Rice, Fajita Veggies, Cheese, Sour Cream, Lettuce]][Roasted Chili Corn Salsa, [Fajita Vegetables, Rice, Pinto Beans, Cheese, Lettuce]][Roasted Chili Corn Salsa, [Fajita Vegetables, Rice, Black Beans, Cheese, Guacamole, Lettuce]][Fresh Tomato Salsa, [Rice, Black Beans, Guacamole]][Fresh Tomato Salsa (Mild), [Black Beans, Rice, Cheese]][Tomatillo-Red Chili Salsa (Hot), [Rice, Black Beans, Cheese, Lettuce]][Tomatillo-Red Chili Salsa (Hot), [Rice, Black Beans, Cheese, Lettuce]][Fresh Tomato Salsa, [Rice, Black Beans, Cheese, Sour Cream, Lettuce]][Fresh Tomato Salsa, [Sour Cream, Fajita Vegetables, Rice, Guacamole, Cheese]][Fresh Tomato Salsa, [Rice, Black Beans, Guacamole]][Fresh Tomato Salsa, [Fajita Vegetables, Rice, Black Beans, Cheese, Guacamole, Lettuce]][[Roasted Chili Corn Salsa (Medium), Tomatillo-Red Chili Salsa (Hot), Fresh Tomato Salsa (Mild)], [Rice, Pinto Beans, Fajita Veggies, Cheese, Sour Cream, Lettuce]][Fresh Tomato Salsa, [Sour Cream, Guacamole, Lettuce]][Fresh Tomato Salsa, [Fajita Vegetables, Rice, Cheese, Sour Cream, Guacamole, Lettuce]][Fresh Tomato Salsa, [Fajita Vegetables, Rice, Black Beans, Cheese, Sour Cream, Lettuce]][Tomatillo-Red Chili Salsa (Hot), [Cheese, Lettuce, Rice, Black Beans]][[Fresh Tomato Salsa (Mild), Roasted Chili Corn Salsa (Medium)], [Black Beans, Rice, Fajita Veggies, Cheese, Sour Cream, Lettuce]][Fresh Tomato Salsa, [Rice, Cheese, Lettuce]][Fresh Tomato Salsa, [Fajita Vegetables, Rice, Black Beans, Guacamole, Lettuce]][Fresh Tomato Salsa, [Rice, Pinto Beans, Cheese, Lettuce]][[Tomatillo-Red Chili Salsa (Hot), Tomatillo-Green Chili Salsa (Medium)], [Rice, Black Beans, Lettuce]][Roasted Chili Corn Salsa (Medium), [Rice, Fajita Veggies, Cheese, Sour Cream, Lettuce]][Tomatillo Green Chili Salsa, [Sour Cream, Cheese, Guacamole]][Fresh Tomato Salsa, [Rice, Black Beans, Cheese, Sour Cream, Guacamole, Lettuce]][Fresh Tomato Salsa, [Fajita Vegetables, Rice, Cheese, Sour Cream, Guacamole, Lettuce]][Fresh Tomato Salsa, [Fajita Vegetables, Rice, Black Beans, Guacamole, Lettuce]][Tomatillo Green Chili Salsa, [Rice, Black Beans, Cheese, Sour Cream, Guacamole, Lettuce]][Tomatillo Red Chili Salsa, [Rice, Black Beans, Cheese, Sour Cream, Guacamole, Lettuce]][Fresh Tomato Salsa (Mild), [Black Beans, Rice, Fajita Veggies, Cheese, Sour Cream, Lettuce]][[Roasted Chili Corn Salsa (Medium), Fresh Tomato Salsa (Mild)], [Rice, Fajita Veggies]][[Roasted Chili Corn Salsa (Medium), Fresh Tomato Salsa (Mild)], [Fajita Veggies, Lettuce, Rice, Black Beans]][Tomatillo Red Chili Salsa, [Sour Cream, Cheese, Guacamole, Lettuce, Black Beans, Rice]][Fresh Tomato (Mild), [Lettuce, Fajita Veggies, Black Beans, Rice, Sour Cream, Cheese]][[Fresh Tomato Salsa (Mild), Roasted Chili Corn Salsa (Medium)], [Black Beans, Rice, Cheese, Sour Cream, Lettuce]][Tomatillo Green Chili Salsa, [Rice, Pinto Beans, Sour Cream, Lettuce]][[Fresh Tomato Salsa (Mild), Roasted Chili Corn Salsa (Medium)], [Fajita Veggies, Rice]][Tomatillo-Red Chili Salsa (Hot), [Pinto Beans, Rice, Fajita Veggies, Cheese, Sour Cream, Guacamole]][Fresh Tomato Salsa, [Fajita Vegetables, Rice, Black Beans, Cheese, Sour Cream, Lettuce]][Roasted Chili Corn Salsa, [Rice, Fajita Vegetables, Lettuce, Pinto Beans, Black Beans, Guacamole, Cheese]][Tomatillo Green Chili Salsa, [Rice, Black Beans, Cheese]][Fresh Tomato Salsa (Mild), Lettuce][Fresh Tomato Salsa (Mild), Cheese][Roasted Chili Corn Salsa (Medium), Cheese][Tomatillo Green Chili Salsa, [Rice, Black Beans, Cheese, Lettuce]][Fresh Tomato Salsa, [Fajita Vegetables, Rice, Black Beans, Cheese, Sour Cream, Lettuce]][Fresh Tomato Salsa, [Rice, Cheese, Sour Cream, Guacamole]][Fresh Tomato Salsa, [Rice, Black Beans, Pinto Beans, Cheese, Lettuce]][Fresh Tomato Salsa, [Fajita Vegetables, Rice, Black Beans, Sour Cream, Lettuce]][Fresh Tomato Salsa, [Rice, Black Beans, Cheese, Guacamole, Lettuce]][Fresh Tomato Salsa, [Fajita Vegetables, Rice, Pinto Beans, Cheese, Sour Cream, Guacamole, Lettuce]][Roasted Chili Corn Salsa (Medium), [Rice, Fajita Veggies, Sour Cream]][Fresh Tomato Salsa, [Fajita Vegetables, Rice, Cheese, Sour Cream, Guacamole, Lettuce]][Fresh Tomato Salsa (Mild), [Pinto Beans, Rice, Cheese, Sour Cream]][Fresh Tomato Salsa, [Guacamole, Cheese, Rice, Sour Cream, Fajita Vegetables]][Roasted Chili Corn Salsa, [Rice, Black Beans, Sour Cream, Cheese, Guacamole]][Roasted Chili Corn Salsa, [Rice, Black Beans, Sour Cream, Cheese, Lettuce, Guacamole]][Fresh Tomato Salsa, [Rice, Fajita Vegetables]][Roasted Chili Corn Salsa (Medium), [Black Beans, Rice, Fajita Veggies, Cheese, Sour Cream]][[Tomatillo-Red Chili Salsa (Hot), Tomatillo-Green Chili Salsa (Medium)], [Rice, Black Beans, Cheese, Lettuce]][Roasted Chili Corn Salsa, [Rice, Pinto Beans, Cheese, Sour Cream, Lettuce]][Tomatillo Green Chili Salsa, [Rice, Black Beans, Guacamole, Lettuce]][Fresh Tomato Salsa, [Lettuce, Fajita Vegetables, Guacamole, Rice, Black Beans]][Fresh Tomato Salsa, [Lettuce, Cheese, Pinto Beans, Rice]][Fresh Tomato Salsa, [Rice, Pinto Beans, Sour Cream, Cheese, Lettuce]][Roasted Chili Corn Salsa, [Fajita Vegetables, Rice, Black Beans, Cheese, Sour Cream, Guacamole, Lettuce]][Fresh Tomato Salsa, [Fajita Vegetables, Rice, Black Beans, Cheese, Sour Cream, Guacamole, Lettuce]][Fresh Tomato Salsa, [Rice, Fajita Vegetables]][Fresh Tomato Salsa, [Rice, Cheese, Lettuce]][Fresh Tomato Salsa][Roasted Chili Corn Salsa, [Rice, Black Beans, Sour Cream, Cheese, Guacamole]][Roasted Chili Corn Salsa, [Rice, Pinto Beans, Cheese, Sour Cream, Lettuce]][Fresh Tomato Salsa, [Rice, Cheese, Sour Cream, Lettuce]][Fresh Tomato Salsa, [Rice, Fajita Vegetables]][Roasted Chili Corn Salsa, [Rice, Black Beans, Cheese]][Roasted Chili Corn Salsa, [Fajita Vegetables, Rice]][Tomatillo-Red Chili Salsa (Hot), [Pinto Beans, Rice, Fajita Veggies, Cheese, Sour Cream]][[Fresh Tomato Salsa (Mild), Tomatillo-Green Chili Salsa (Medium)], [Rice, Fajita Veggies, Cheese, Sour Cream, Lettuce]][Roasted Chili Corn Salsa, [Rice, Pinto Beans, Cheese, Sour Cream, Guacamole]][Fresh Tomato Salsa (Mild), [Rice, Black Beans, Fajita Veggies, Cheese, Sour Cream, Lettuce]][Fresh Tomato Salsa, [Fajita Vegetables, Rice, Lettuce]][Fresh Tomato Salsa, [Rice, Black Beans, Cheese, Sour Cream, Guacamole, Lettuce]][Roasted Chili Corn Salsa (Medium), [Pinto Beans, Black Beans, Rice, Cheese, Sour Cream, Guacamole]][Tomatillo-Green Chili Salsa (Medium), [Pinto Beans, Black Beans, Rice, Fajita Veggies, Sour Cream, Lettuce]][Fresh Tomato Salsa, [Fajita Vegetables, Rice, Black Beans, Cheese, Sour Cream, Lettuce]][Fresh Tomato Salsa, [Rice, Cheese, Sour Cream, Lettuce]][[Roasted Chili Corn Salsa (Medium), Tomatillo-Green Chili Salsa (Medium)], [Rice, Fajita Veggies, Cheese, Sour Cream, Lettuce]][Fresh Tomato Salsa, [Cheese, Black Beans, Rice]][Roasted Chili Corn Salsa, [Rice, Black Beans, Sour Cream, Cheese, Guacamole]][Roasted Chili Corn Salsa, [Black Beans, Cheese, Guacamole]][Fresh Tomato Salsa, [Rice, Fajita Vegetables, Sour Cream, Cheese, Guacamole]][Fresh Tomato Salsa, [Rice, Pinto Beans, Cheese, Guacamole, Lettuce]][Fresh Tomato Salsa, [Rice, Cheese]][Tomatillo Green Chili Salsa, [Rice, Cheese]][Roasted Chili Corn Salsa, [Rice, Black Beans, Cheese, Guacamole]][Fresh Tomato Salsa, [Rice, Cheese, Guacamole, Lettuce]][Roasted Chili Corn Salsa, [Rice, Black Beans, Sour Cream, Guacamole]][Fresh Tomato Salsa, [Cheese, Rice, Black Beans]][Fresh Tomato Salsa, [Guacamole, Sour Cream, Cheese, Rice, Fajita Vegetables]][Fresh Tomato Salsa, [Rice, Fajita Vegetables, Black Beans, Sour Cream, Cheese, Lettuce]][Tomatillo Green Chili Salsa, [Rice, Pinto Beans, Sour Cream, Lettuce]][Tomatillo-Red Chili Salsa (Hot), [Black Beans, Rice, Cheese, Lettuce]][Fresh Tomato Salsa (Mild), [Black Beans, Rice, Guacamole, Lettuce]][Tomatillo-Red Chili Salsa (Hot), [Pinto Beans, Rice, Fajita Veggies, Cheese, Sour Cream, Guacamole]][[Roasted Chili Corn Salsa (Medium), Fresh Tomato Salsa (Mild)], [Rice, Black Beans, Fajita Veggies, Guacamole]][[Roasted Chili Corn Salsa (Medium), Tomatillo-Red Chili Salsa (Hot), Fresh Tomato Salsa (Mild)], [Rice, Pinto Beans, Fajita Veggies, Cheese, Sour Cream, Lettuce]][Fresh Tomato Salsa, [Fajita Vegetables, Rice, Pinto Beans, Cheese]][Fresh Tomato Salsa, [Fajita Vegetables, Rice, Black Beans, Cheese, Sour Cream, Guacamole, Lettuce]][Fresh Tomato Salsa, [Fajita Vegetables, Rice, Pinto Beans, Cheese, Sour Cream, Guacamole, Lettuce]][Fresh Tomato Salsa, [Fajita Vegetables, Rice, Black Beans, Cheese, Sour Cream, Lettuce]][Fresh Tomato Salsa, [Rice, Black Beans, Cheese, Sour Cream]][Tomatillo Green Chili Salsa, [Fajita Vegetables, Rice, Black Beans, Cheese, Lettuce]][Fresh Tomato Salsa, [Fajita Vegetables, Rice]][Roasted Chili Corn Salsa (Medium), [Black Beans, Rice, Fajita Veggies, Cheese, Sour Cream]][Fresh Tomato Salsa, [Rice, Cheese, Sour Cream]][[Roasted Chili Corn Salsa (Medium), Tomatillo-Red Chili Salsa (Hot)], [Black Beans, Rice, Fajita Veggies, Guacamole, Lettuce]][Roasted Chili Corn Salsa, [Rice, Pinto Beans, Sour Cream, Cheese, Guacamole]][Fresh Tomato Salsa (Mild), [Black Beans, Rice, Guacamole, Lettuce]][Tomatillo-Red Chili Salsa (Hot), [Cheese, Sour Cream, Fajita Veggies, Pinto Beans, Rice]][Fresh Tomato Salsa (Mild), [Black Beans, Rice, Fajita Veggies, Cheese]][Fresh Tomato Salsa, [Rice, Black Beans, Cheese, Guacamole, Lettuce]][Fresh Tomato Salsa, [Rice, Cheese, Sour Cream, Guacamole, Fajita Vegetables]][Tomatillo Green Chili Salsa, [Rice, Cheese, Guacamole, Lettuce]][Roasted Chili Corn Salsa, [Rice, Black Beans, Sour Cream, Guacamole]][Tomatillo Red Chili Salsa, [Rice, Cheese, Sour Cream, Guacamole]][Fresh Tomato Salsa, [Fajita Vegetables, Rice, Cheese, Sour Cream, Guacamole, Lettuce]][[Roasted Chili Corn Salsa (Medium), Fresh Tomato Salsa (Mild)], [Rice, Fajita Veggies]][Fresh Tomato (Mild), [Lettuce, Fajita Veggies, Pinto Beans, Rice, Sour Cream, Cheese]][Tomatillo-Red Chili Salsa (Hot), [Pinto Beans, Rice, Fajita Veggies, Cheese, Sour Cream, Guacamole]][[Tomatillo-Green Chili Salsa (Medium), Tomatillo-Red Chili Salsa (Hot)], [Pinto Beans, Rice, Fajita Veggies, Cheese, Sour Cream, Guacamole]][Fresh Tomato Salsa, [Fajita Vegetables, Rice, Black Beans, Sour Cream, Guacamole, Lettuce]][Roasted Chili Corn Salsa, [Fajita Vegetables, Rice, Black Beans, Guacamole]][[Roasted Chili Corn Salsa (Medium), Fresh Tomato Salsa (Mild)], [Rice, Black Beans, Fajita Veggies, Guacamole]][[Roasted Chili Corn Salsa (Medium), Tomatillo-Red Chili Salsa (Hot), Fresh Tomato Salsa (Mild)], [Rice, Pinto Beans, Fajita Veggies, Cheese, Sour Cream, Lettuce]][Fresh Tomato Salsa, [Fajita Vegetables, Rice, Cheese, Sour Cream, Lettuce]][Roasted Chili Corn Salsa, [Rice, Black Beans, Cheese, Sour Cream, Lettuce]][Fresh Tomato Salsa, [Rice, Black Beans, Sour Cream]][Roasted Chili Corn Salsa, [Rice, Black Beans, Cheese, Sour Cream, Guacamole, Lettuce]][Tomatillo-Red Chili Salsa (Hot), [Black Beans, Rice, Cheese, Lettuce]][Fresh Tomato Salsa, [Guacamole, Lettuce, Rice, Cheese, Sour Cream, Black Beans]][Fresh Tomato Salsa, [Rice, Fajita Vegetables]][[Fresh Tomato Salsa (Mild), Roasted Chili Corn Salsa (Medium)], [Black Beans, Rice, Cheese, Sour Cream, Lettuce]][Fresh Tomato Salsa, [Rice, Black Beans, Cheese]][[Fresh Tomato Salsa (Mild), Tomatillo-Red Chili Salsa (Hot)], [Black Beans, Rice, Cheese, Sour Cream, Guacamole]][Fresh Tomato Salsa (Mild), [Black Beans, Rice, Fajita Veggies, Guacamole, Lettuce]][Fresh Tomato Salsa, [Rice, Black Beans, Cheese, Sour Cream, Guacamole, Lettuce]][Tomatillo Green Chili Salsa, [Fajita Vegetables, Rice]][Roasted Chili Corn Salsa, [Rice, Black Beans, Sour Cream, Cheese, Guacamole]][Tomatillo Red Chili Salsa, [Rice, Black Beans, Cheese, Sour Cream, Guacamole, Lettuce]][Roasted Chili Corn Salsa, [Rice, Black Beans, Cheese, Sour Cream, Guacamole, Lettuce]][Roasted Chili Corn Salsa (Medium), [Pinto Beans, Black Beans, Rice, Fajita Veggies, Cheese, Lettuce]][Tomatillo-Red Chili Salsa (Hot), [Pinto Beans, Black Beans, Rice, Fajita Veggies, Cheese, Sour Cream, Lettuce]][Fresh Tomato Salsa, [Rice, Pinto Beans, Sour Cream, Cheese, Lettuce]][Fresh Tomato Salsa, [Fajita Vegetables, Rice, Black Beans, Cheese, Guacamole, Lettuce]][Roasted Chili Corn Salsa, [Rice, Black Beans, Cheese, Guacamole, Lettuce]][Tomatillo-Red Chili Salsa (Hot), [Rice, Pinto Beans, Fajita Veggies, Cheese, Sour Cream, Guacamole]][Roasted Chili Corn Salsa, [Rice, Black Beans, Cheese, Sour Cream, Lettuce]][Tomatillo-Red Chili Salsa (Hot), [Pinto Beans, Rice, Cheese, Sour Cream, Lettuce]][Tomatillo Green Chili Salsa, [Rice, Fajita Vegetables, Black Beans, Sour Cream, Cheese, Lettuce]][Fresh Tomato Salsa, [Rice, Cheese, Sour Cream]][Tomatillo Red Chili Salsa, [Rice, Black Beans, Sour Cream, Cheese, Lettuce, Guacamole]][Fresh Tomato Salsa, [Fajita Vegetables, Rice, Pinto Beans, Cheese, Sour Cream, Guacamole, Lettuce]][Fresh Tomato Salsa, Cheese][Fresh Tomato Salsa, [Fajita Vegetables, Rice, Black Beans, Cheese, Sour Cream, Lettuce]][Fresh Tomato Salsa, [Rice, Cheese, Sour Cream]][Tomatillo Red Chili Salsa, [Fajita Vegetables, Rice, Black Beans, Cheese, Sour Cream, Guacamole, Lettuce]][Fresh Tomato Salsa, [Fajita Vegetables, Rice, Black Beans, Cheese, Sour Cream, Guacamole, Lettuce]][[Tomatillo-Green Chili Salsa (Medium), Roasted Chili Corn Salsa (Medium)], [Rice, Fajita Veggies, Guacamole, Lettuce]][Tomatillo Green Chili Salsa, [Rice, Black Beans, Cheese, Sour Cream]][Fresh Tomato Salsa, [Rice, Fajita Vegetables, Pinto Beans, Cheese, Lettuce, Guacamole]][Fresh Tomato Salsa, [Rice, Black Beans, Cheese, Sour Cream]][Fresh Tomato Salsa, [Fajita Vegetables, Rice, Black Beans, Cheese]][Fresh Tomato Salsa, [Rice, Black Beans, Cheese, Lettuce]][Fresh Tomato Salsa, [Rice, Fajita Vegetables, Black Beans, Cheese, Lettuce]][Fresh Tomato Salsa, [Rice, Black Beans, Cheese, Lettuce, Guacamole]][Tomatillo-Red Chili Salsa (Hot), [Black Beans, Rice, Cheese, Lettuce]][Fresh Tomato Salsa, [Fajita Vegetables, Rice]][Fresh Tomato Salsa, [Rice, Cheese, Lettuce]][Fresh Tomato Salsa, [Rice, Black Beans, Fajita Vegetables, Lettuce, Cheese, Sour Cream]][[Roasted Chili Corn Salsa (Medium), Fresh Tomato Salsa (Mild)], [Rice, Fajita Veggies]][Tomatillo Green Chili Salsa, [Rice, Black Beans, Guacamole, Lettuce]][Fresh Tomato Salsa, [Rice, Black Beans, Cheese, Sour Cream]][Fresh Tomato Salsa, [Fajita Vegetables, Rice, Black Beans, Sour Cream, Guacamole, Lettuce]][Fresh Tomato Salsa, [Fajita Vegetables, Rice, Black Beans, Pinto Beans, Cheese, Sour Cream, Guacamole, Lettuce]][Fresh Tomato Salsa, [Fajita Vegetables, Rice, Black Beans, Cheese, Sour Cream, Guacamole, Lettuce]][[Fresh Tomato Salsa (Mild), Tomatillo-Green Chili Salsa (Medium), Roasted Chili Corn Salsa (Medium), Tomatillo-Red Chili Salsa (Hot)], [Black Beans, Rice, Fajita Veggies, Cheese, Sour Cream]][Tomatillo-Green Chili Salsa (Medium), [Rice, Cheese, Sour Cream, Lettuce]][Roasted Chili Corn Salsa, [Rice, Black Beans, Cheese, Sour Cream, Lettuce]][Roasted Chili Corn Salsa, [Rice, Black Beans, Sour Cream, Cheese, Guacamole]][Fresh Tomato Salsa, [Fajita Vegetables, Rice, Pinto Beans, Cheese, Sour Cream, Guacamole, Lettuce]][Tomatillo Green Chili Salsa, [Rice, Fajita Vegetables, Black Beans, Sour Cream, Cheese, Lettuce]][Fresh Tomato Salsa, [Rice, Pinto Beans, Cheese, Lettuce]][Roasted Chili Corn Salsa, [Rice, Black Beans, Guacamole, Lettuce]][Roasted Chili Corn Salsa, [Fajita Vegetables, Rice, Pinto Beans, Cheese, Sour Cream, Lettuce]][Fresh Tomato Salsa, [Rice, Black Beans, Cheese, Sour Cream, Guacamole, Lettuce]][Fresh Tomato Salsa (Mild), [Black Beans, Rice, Cheese]][Roasted Chili Corn Salsa (Medium), [Black Beans, Rice, Fajita Veggies, Cheese, Sour Cream]][Fresh Tomato Salsa (Mild), [Black Beans, Rice, Sour Cream, Guacamole]][[Fresh Tomato Salsa (Mild), Roasted Chili Corn Salsa (Medium)], [Black Beans, Rice, Cheese, Sour Cream, Lettuce]][Roasted Chili Corn Salsa, [Fajita Vegetables, Rice, Cheese, Sour Cream, Lettuce]][Fresh Tomato Salsa, [Rice, Cheese, Sour Cream]][Fresh Tomato Salsa, [Rice, Cheese, Lettuce]][Fresh Tomato Salsa, [Fajita Vegetables, Rice, Sour Cream, Guacamole, Lettuce]][Fresh Tomato Salsa, [Fajita Vegetables, Rice, Cheese, Sour Cream, Guacamole, Lettuce]][Fresh Tomato Salsa, [Fajita Vegetables, Rice, Cheese, Sour Cream, Guacamole, Lettuce]][Tomatillo Red Chili Salsa, [Rice, Cheese, Lettuce]][Tomatillo Green Chili Salsa, [Rice, Pinto Beans, Sour Cream, Lettuce]][Fresh Tomato Salsa, [Fajita Vegetables, Rice, Lettuce]][Fresh Tomato Salsa, [Rice, Black Beans, Cheese, Sour Cream, Guacamole, Lettuce]][Fresh Tomato Salsa, [Fajita Vegetables, Rice, Black Beans, Cheese, Guacamole, Lettuce]][Fresh Tomato Salsa, [Guacamole, Sour Cream, Cheese, Rice, Fajita Vegetables]][Fresh Tomato Salsa, [Rice, Black Beans, Cheese, Sour Cream, Guacamole, Lettuce]][Tomatillo Red Chili Salsa, [Rice, Black Beans, Pinto Beans, Cheese, Sour Cream, Lettuce]][Tomatillo Red Chili Salsa, [Rice, Black Beans, Cheese, Sour Cream, Lettuce]][Fresh Tomato Salsa, [Rice, Cheese, Sour Cream, Guacamole]][Fresh Tomato Salsa, [Rice, Black Beans, Lettuce, Guacamole]][Tomatillo Green Chili Salsa, [Rice, Black Beans, Cheese, Sour Cream, Guacamole, Lettuce]][Fresh Tomato Salsa, [Rice, Black Beans, Pinto Beans, Cheese, Sour Cream]][Tomatillo Red Chili Salsa, [Rice, Black Beans, Cheese, Sour Cream, Lettuce]][Roasted Chili Corn Salsa, [Fajita Vegetables, Rice, Black Beans, Sour Cream, Lettuce]][Fresh Tomato Salsa, [Fajita Vegetables, Rice]][Fresh Tomato Salsa, [Fajita Vegetables, Rice, Lettuce]][Tomatillo Green Chili Salsa, [Fajita Vegetables, Rice, Black Beans, Cheese, Lettuce]][Fresh Tomato Salsa, [Rice, Black Beans, Sour Cream, Cheese]][White Rice][White Rice][Tomatillo Red Chili Salsa, [Rice, Black Beans, Cheese, Sour Cream, Lettuce]][Tomatillo Green Chili Salsa, [Rice, Pinto Beans, Sour Cream, Lettuce]][Fresh Tomato Salsa, [Fajita Vegetables, Rice, Cheese, Guacamole]][Fresh Tomato Salsa, [Rice, Black Beans, Cheese, Guacamole, Lettuce]][Fresh Tomato Salsa, [Pinto Beans, Rice, Lettuce, Cheese]][Fresh Tomato Salsa, [Rice, Black Beans, Cheese, Sour Cream, Lettuce]][Fresh Tomato Salsa, [Fajita Vegetables, Rice, Black Beans, Sour Cream, Lettuce]][Roasted Chili Corn Salsa, [Fajita Vegetables, Rice, Black Beans, Cheese, Guacamole]][Fresh Tomato Salsa, [Fajita Vegetables, Black Beans, Pinto Beans, Guacamole, Lettuce]][Tomatillo Red Chili Salsa, [Rice, Black Beans, Cheese, Guacamole]][Fresh Tomato Salsa, [Guacamole, Lettuce]][Tomatillo Red Chili Salsa, [Fajita Vegetables, Rice, Black Beans, Cheese, Sour Cream]][Fresh Tomato Salsa, [Rice, Black Beans, Cheese, Guacamole, Lettuce]][Fresh Tomato Salsa, [Rice, Black Beans, Cheese, Lettuce]][Roasted Chili Corn Salsa, [Rice, Pinto Beans, Sour Cream, Cheese, Guacamole]][Roasted Chili Corn Salsa, [Rice, Black Beans, Guacamole]][Fresh Tomato Salsa, [Pinto Beans, Rice, Cheese, Lettuce, Guacamole, Sour Cream, Fajita Vegetables]][Fresh Tomato Salsa, [Rice, Black Beans, Guacamole, Lettuce]][Fresh Tomato Salsa, [Rice, Cheese, Sour Cream, Lettuce]][Tomatillo Green Chili Salsa, [Fajita Vegetables, Black Beans, Sour Cream, Lettuce]][Fresh Tomato Salsa, [Fajita Vegetables, Rice, Black Beans, Pinto Beans, Cheese, Sour Cream]][Fresh Tomato Salsa, [Black Beans, Rice, Sour Cream, Cheese, Guacamole, Lettuce]][Fresh Tomato Salsa, [Rice, Black Beans, Pinto Beans, Cheese]][Fresh Tomato Salsa, [Rice, Black Beans, Pinto Beans, Cheese, Sour Cream, Guacamole]][Fresh Tomato Salsa, [Rice, Black Beans, Cheese]][Fresh Tomato Salsa, [Fajita Vegetables, Rice, Black Beans, Guacamole, Lettuce]][Tomatillo Green Chili Salsa, [Rice, Pinto Beans, Sour Cream, Lettuce]][Fresh Tomato Salsa, [Rice, Fajita Vegetables, Black Beans, Sour Cream, Cheese, Lettuce, Guacamole]][Fresh Tomato Salsa, [Rice, Black Beans, Cheese, Sour Cream, Guacamole]][Fresh Tomato Salsa, [Rice, Pinto Beans, Cheese, Lettuce]][Fresh Tomato Salsa, [Rice, Black Beans, Cheese, Sour Cream, Lettuce]][Tomatillo Green Chili Salsa, [Rice, Pinto Beans, Cheese, Sour Cream, Lettuce]][Fresh Tomato Salsa, [Rice, Black Beans, Sour Cream]][Fresh Tomato Salsa, [Rice, Black Beans, Cheese]][Fresh Tomato Salsa, Rice][Fresh Tomato Salsa, [Rice, Pinto Beans, Cheese, Sour Cream, Guacamole, Lettuce]][Fresh Tomato Salsa, [Fajita Vegetables, Rice, Black Beans, Cheese, Sour Cream, Guacamole, Lettuce]][Fresh Tomato Salsa, [Rice, Black Beans, Cheese, Sour Cream, Guacamole, Lettuce]][Fresh Tomato Salsa, [Fajita Vegetables, Rice, Sour Cream, Lettuce]][Fresh Tomato Salsa, [Rice, Pinto Beans, Sour Cream, Cheese, Lettuce, Guacamole]][Tomatillo Green Chili Salsa, [Fajita Vegetables, Rice, Sour Cream, Guacamole]][Fresh Tomato Salsa, [Rice, Cheese, Sour Cream, Guacamole]][Roasted Chili Corn Salsa, [Rice, Fajita Vegetables, Cheese, Lettuce]][Roasted Chili Corn Salsa, [Rice, Black Beans, Cheese, Sour Cream, Lettuce]][Fresh Tomato Salsa, [Rice, Black Beans, Cheese, Sour Cream]][Tomatillo Green Chili Salsa, [Fajita Vegetables, Rice, Pinto Beans, Cheese, Guacamole, Lettuce]][Roasted Chili Corn Salsa, [Black Beans, Sour Cream, Cheese, Guacamole]][Roasted Chili Corn Salsa, [Fajita Vegetables, Rice, Cheese, Sour Cream, Lettuce]][Fresh Tomato Salsa, [Fajita Vegetables, Rice, Pinto Beans, Cheese, Guacamole, Lettuce]][Roasted Chili Corn Salsa, [Rice, Cheese, Lettuce]][Fresh Tomato Salsa, [Rice, Cheese, Sour Cream, Guacamole]][Tomatillo Red Chili Salsa, [Rice, Black Beans, Pinto Beans, Cheese, Sour Cream, Lettuce]][Tomatillo Green Chili Salsa, [Rice, Black Beans, Sour Cream, Lettuce]][Fresh Tomato Salsa, [Rice, Black Beans, Cheese, Sour Cream, Guacamole, Lettuce]][Fresh Tomato Salsa, [Rice, Black Beans, Cheese, Sour Cream, Guacamole]][Fresh Tomato Salsa, [Rice, Black Beans, Sour Cream, Cheese, Lettuce, Guacamole]][Roasted Chili Corn Salsa, [Rice, Black Beans, Cheese, Lettuce, Guacamole]][Tomatillo Red Chili Salsa, [Rice, Black Beans, Sour Cream, Cheese, Lettuce]][Tomatillo Green Chili Salsa, [Rice, Black Beans]][Roasted Chili Corn Salsa, [Cheese, Lettuce]][Fresh Tomato Salsa, [Rice, Black Beans, Cheese, Sour Cream]]'"
            ],
            "application/vnd.google.colaboratory.intrinsic+json": {
              "type": "string"
            }
          },
          "metadata": {},
          "execution_count": 12
        }
      ],
      "source": [
        "c['choice_description'][0]"
      ]
    },
    {
      "cell_type": "markdown",
      "metadata": {
        "id": "hgQeJ549HjVy"
      },
      "source": [
        "### Step 11. What was the most ordered item in the choice_description column?"
      ]
    },
    {
      "cell_type": "code",
      "execution_count": null,
      "metadata": {
        "colab": {
          "base_uri": "https://localhost:8080/",
          "height": 112
        },
        "id": "ibXsVaEvHjVy",
        "outputId": "0363f8a5-7f40-4b02-f94e-2a7841f329cc"
      },
      "outputs": [
        {
          "output_type": "execute_result",
          "data": {
            "text/plain": [
              "                    order_id  quantity  \\\n",
              "choice_description                       \n",
              "[Diet Coke]           123455       159   \n",
              "\n",
              "                                                            item_name  \\\n",
              "choice_description                                                      \n",
              "[Diet Coke]         Canned SodaCanned SodaCanned Soda6 Pack Soft D...   \n",
              "\n",
              "                                                           item_price  \n",
              "choice_description                                                     \n",
              "[Diet Coke]         $2.18 $1.09 $1.09 $6.49 $2.18 $1.25 $1.09 $6.4...  "
            ],
            "text/html": [
              "\n",
              "  <div id=\"df-5e262b32-cc7d-4793-8354-7182d2a375aa\" class=\"colab-df-container\">\n",
              "    <div>\n",
              "<style scoped>\n",
              "    .dataframe tbody tr th:only-of-type {\n",
              "        vertical-align: middle;\n",
              "    }\n",
              "\n",
              "    .dataframe tbody tr th {\n",
              "        vertical-align: top;\n",
              "    }\n",
              "\n",
              "    .dataframe thead th {\n",
              "        text-align: right;\n",
              "    }\n",
              "</style>\n",
              "<table border=\"1\" class=\"dataframe\">\n",
              "  <thead>\n",
              "    <tr style=\"text-align: right;\">\n",
              "      <th></th>\n",
              "      <th>order_id</th>\n",
              "      <th>quantity</th>\n",
              "      <th>item_name</th>\n",
              "      <th>item_price</th>\n",
              "    </tr>\n",
              "    <tr>\n",
              "      <th>choice_description</th>\n",
              "      <th></th>\n",
              "      <th></th>\n",
              "      <th></th>\n",
              "      <th></th>\n",
              "    </tr>\n",
              "  </thead>\n",
              "  <tbody>\n",
              "    <tr>\n",
              "      <th>[Diet Coke]</th>\n",
              "      <td>123455</td>\n",
              "      <td>159</td>\n",
              "      <td>Canned SodaCanned SodaCanned Soda6 Pack Soft D...</td>\n",
              "      <td>$2.18 $1.09 $1.09 $6.49 $2.18 $1.25 $1.09 $6.4...</td>\n",
              "    </tr>\n",
              "  </tbody>\n",
              "</table>\n",
              "</div>\n",
              "    <div class=\"colab-df-buttons\">\n",
              "\n",
              "  <div class=\"colab-df-container\">\n",
              "    <button class=\"colab-df-convert\" onclick=\"convertToInteractive('df-5e262b32-cc7d-4793-8354-7182d2a375aa')\"\n",
              "            title=\"Convert this dataframe to an interactive table.\"\n",
              "            style=\"display:none;\">\n",
              "\n",
              "  <svg xmlns=\"http://www.w3.org/2000/svg\" height=\"24px\" viewBox=\"0 -960 960 960\">\n",
              "    <path d=\"M120-120v-720h720v720H120Zm60-500h600v-160H180v160Zm220 220h160v-160H400v160Zm0 220h160v-160H400v160ZM180-400h160v-160H180v160Zm440 0h160v-160H620v160ZM180-180h160v-160H180v160Zm440 0h160v-160H620v160Z\"/>\n",
              "  </svg>\n",
              "    </button>\n",
              "\n",
              "  <style>\n",
              "    .colab-df-container {\n",
              "      display:flex;\n",
              "      gap: 12px;\n",
              "    }\n",
              "\n",
              "    .colab-df-convert {\n",
              "      background-color: #E8F0FE;\n",
              "      border: none;\n",
              "      border-radius: 50%;\n",
              "      cursor: pointer;\n",
              "      display: none;\n",
              "      fill: #1967D2;\n",
              "      height: 32px;\n",
              "      padding: 0 0 0 0;\n",
              "      width: 32px;\n",
              "    }\n",
              "\n",
              "    .colab-df-convert:hover {\n",
              "      background-color: #E2EBFA;\n",
              "      box-shadow: 0px 1px 2px rgba(60, 64, 67, 0.3), 0px 1px 3px 1px rgba(60, 64, 67, 0.15);\n",
              "      fill: #174EA6;\n",
              "    }\n",
              "\n",
              "    .colab-df-buttons div {\n",
              "      margin-bottom: 4px;\n",
              "    }\n",
              "\n",
              "    [theme=dark] .colab-df-convert {\n",
              "      background-color: #3B4455;\n",
              "      fill: #D2E3FC;\n",
              "    }\n",
              "\n",
              "    [theme=dark] .colab-df-convert:hover {\n",
              "      background-color: #434B5C;\n",
              "      box-shadow: 0px 1px 3px 1px rgba(0, 0, 0, 0.15);\n",
              "      filter: drop-shadow(0px 1px 2px rgba(0, 0, 0, 0.3));\n",
              "      fill: #FFFFFF;\n",
              "    }\n",
              "  </style>\n",
              "\n",
              "    <script>\n",
              "      const buttonEl =\n",
              "        document.querySelector('#df-5e262b32-cc7d-4793-8354-7182d2a375aa button.colab-df-convert');\n",
              "      buttonEl.style.display =\n",
              "        google.colab.kernel.accessAllowed ? 'block' : 'none';\n",
              "\n",
              "      async function convertToInteractive(key) {\n",
              "        const element = document.querySelector('#df-5e262b32-cc7d-4793-8354-7182d2a375aa');\n",
              "        const dataTable =\n",
              "          await google.colab.kernel.invokeFunction('convertToInteractive',\n",
              "                                                    [key], {});\n",
              "        if (!dataTable) return;\n",
              "\n",
              "        const docLinkHtml = 'Like what you see? Visit the ' +\n",
              "          '<a target=\"_blank\" href=https://colab.research.google.com/notebooks/data_table.ipynb>data table notebook</a>'\n",
              "          + ' to learn more about interactive tables.';\n",
              "        element.innerHTML = '';\n",
              "        dataTable['output_type'] = 'display_data';\n",
              "        await google.colab.output.renderOutput(dataTable, element);\n",
              "        const docLink = document.createElement('div');\n",
              "        docLink.innerHTML = docLinkHtml;\n",
              "        element.appendChild(docLink);\n",
              "      }\n",
              "    </script>\n",
              "  </div>\n",
              "\n",
              "\n",
              "    </div>\n",
              "  </div>\n"
            ],
            "application/vnd.google.colaboratory.intrinsic+json": {
              "type": "dataframe",
              "variable_name": "c",
              "summary": "{\n  \"name\": \"c\",\n  \"rows\": 1043,\n  \"fields\": [\n    {\n      \"column\": \"choice_description\",\n      \"properties\": {\n        \"dtype\": \"string\",\n        \"num_unique_values\": 1043,\n        \"samples\": [\n          \"[Roasted Chili Corn Salsa, [Fajita Vegetables, Rice, Pinto Beans, Cheese, Guacamole, Lettuce]]\",\n          \"[Tomatillo-Red Chili Salsa (Hot), [Cheese, Sour Cream, Lettuce]]\",\n          \"[[Fresh Tomato Salsa (Mild), Tomatillo-Green Chili Salsa (Medium), Roasted Chili Corn Salsa (Medium), Tomatillo-Red Chili Salsa (Hot)], [Pinto Beans, Black Beans, Rice, Cheese, Sour Cream]]\"\n        ],\n        \"semantic_type\": \"\",\n        \"description\": \"\"\n      }\n    },\n    {\n      \"column\": \"order_id\",\n      \"properties\": {\n        \"dtype\": \"number\",\n        \"std\": 7177,\n        \"min\": 4,\n        \"max\": 123455,\n        \"num_unique_values\": 922,\n        \"samples\": [\n          628,\n          1607,\n          414\n        ],\n        \"semantic_type\": \"\",\n        \"description\": \"\"\n      }\n    },\n    {\n      \"column\": \"quantity\",\n      \"properties\": {\n        \"dtype\": \"number\",\n        \"std\": 8,\n        \"min\": 1,\n        \"max\": 159,\n        \"num_unique_values\": 34,\n        \"samples\": [\n          20,\n          15,\n          7\n        ],\n        \"semantic_type\": \"\",\n        \"description\": \"\"\n      }\n    },\n    {\n      \"column\": \"item_name\",\n      \"properties\": {\n        \"dtype\": \"category\",\n        \"num_unique_values\": 404,\n        \"samples\": [\n          \"Barbacoa Soft TacosBarbacoa Soft TacosBarbacoa Soft TacosBarbacoa Soft TacosBarbacoa Soft TacosCarnitas BurritoBarbacoa Soft TacosSteak Burrito\",\n          \"Chicken Soft TacosSteak BowlVeggie BowlCarnitas Bowl\",\n          \"Barbacoa Bowl\"\n        ],\n        \"semantic_type\": \"\",\n        \"description\": \"\"\n      }\n    },\n    {\n      \"column\": \"item_price\",\n      \"properties\": {\n        \"dtype\": \"category\",\n        \"num_unique_values\": 284,\n        \"samples\": [\n          \"$9.25 $8.75 $9.25 $8.75 $8.75 $8.75 $8.75 $8.75 $8.75 $8.75 $8.75 $8.75 $8.75 $9.25 $8.75 $8.75 $9.25 $8.75 $8.75 $8.75 $17.50 $8.75 $8.75 $8.75 $9.25 $8.75 $8.75 $8.75 $8.75 \",\n          \"$8.75 $9.39 \",\n          \"$10.98 $10.98 $10.98 $10.98 $10.98 \"\n        ],\n        \"semantic_type\": \"\",\n        \"description\": \"\"\n      }\n    }\n  ]\n}"
            }
          },
          "metadata": {},
          "execution_count": 16
        }
      ],
      "source": [
        "c = chipo.groupby('choice_description').sum()\n",
        "c = c.sort_values(['quantity'], ascending=False)\n",
        "c.head(1)"
      ]
    },
    {
      "cell_type": "markdown",
      "metadata": {
        "id": "uV-2H-f9HjVz"
      },
      "source": [
        "### Step 12. How many items were orderd in total?"
      ]
    },
    {
      "cell_type": "code",
      "execution_count": null,
      "metadata": {
        "colab": {
          "base_uri": "https://localhost:8080/"
        },
        "id": "4WplKs6WHjVz",
        "outputId": "8538fa7e-0248-4285-9a00-be4c29c5f045"
      },
      "outputs": [
        {
          "output_type": "execute_result",
          "data": {
            "text/plain": [
              "4972"
            ]
          },
          "metadata": {},
          "execution_count": 17
        }
      ],
      "source": [
        "total_items_orders = chipo.quantity.sum()\n",
        "total_items_orders"
      ]
    },
    {
      "cell_type": "markdown",
      "metadata": {
        "id": "xmkqnnuXHjVz"
      },
      "source": [
        "### Step 13. Turn the item price into a float"
      ]
    },
    {
      "cell_type": "markdown",
      "metadata": {
        "id": "Ktj2K2gsHjVz"
      },
      "source": [
        "#### Step 13.a. Check the item price type"
      ]
    },
    {
      "cell_type": "code",
      "execution_count": null,
      "metadata": {
        "colab": {
          "base_uri": "https://localhost:8080/"
        },
        "id": "wVDGTZWOHjVz",
        "outputId": "e233b8c1-ac1d-4569-9802-699f9db01e21"
      },
      "outputs": [
        {
          "output_type": "execute_result",
          "data": {
            "text/plain": [
              "dtype('float64')"
            ]
          },
          "metadata": {},
          "execution_count": 22
        }
      ],
      "source": [
        "chipo['item_price'].dtype"
      ]
    },
    {
      "cell_type": "markdown",
      "metadata": {
        "id": "Us71zOs-HjV0"
      },
      "source": [
        "#### Step 13.b. Create a lambda function and change the type of item price"
      ]
    },
    {
      "cell_type": "code",
      "execution_count": null,
      "metadata": {
        "collapsed": true,
        "colab": {
          "base_uri": "https://localhost:8080/",
          "height": 252
        },
        "id": "VQkkxA_IHjV0",
        "outputId": "c15cd08a-324b-4897-827c-1b43b1e9a026"
      },
      "outputs": [
        {
          "output_type": "error",
          "ename": "TypeError",
          "evalue": "'float' object is not subscriptable",
          "traceback": [
            "\u001b[0;31m---------------------------------------------------------------------------\u001b[0m",
            "\u001b[0;31mTypeError\u001b[0m                                 Traceback (most recent call last)",
            "\u001b[0;32m<ipython-input-23-e2eb8023f6a4>\u001b[0m in \u001b[0;36m<cell line: 2>\u001b[0;34m()\u001b[0m\n\u001b[1;32m      1\u001b[0m \u001b[0mdollarizer\u001b[0m \u001b[0;34m=\u001b[0m \u001b[0;32mlambda\u001b[0m \u001b[0mx\u001b[0m\u001b[0;34m:\u001b[0m \u001b[0mfloat\u001b[0m\u001b[0;34m(\u001b[0m\u001b[0mx\u001b[0m\u001b[0;34m[\u001b[0m\u001b[0;36m1\u001b[0m\u001b[0;34m:\u001b[0m\u001b[0;34m-\u001b[0m\u001b[0;36m1\u001b[0m\u001b[0;34m]\u001b[0m\u001b[0;34m)\u001b[0m\u001b[0;34m\u001b[0m\u001b[0;34m\u001b[0m\u001b[0m\n\u001b[0;32m----> 2\u001b[0;31m \u001b[0mchipo\u001b[0m\u001b[0;34m.\u001b[0m\u001b[0mitem_price\u001b[0m \u001b[0;34m=\u001b[0m \u001b[0mchipo\u001b[0m\u001b[0;34m.\u001b[0m\u001b[0mitem_price\u001b[0m\u001b[0;34m.\u001b[0m\u001b[0mapply\u001b[0m\u001b[0;34m(\u001b[0m\u001b[0mdollarizer\u001b[0m\u001b[0;34m)\u001b[0m\u001b[0;34m\u001b[0m\u001b[0;34m\u001b[0m\u001b[0m\n\u001b[0m",
            "\u001b[0;32m/usr/local/lib/python3.10/dist-packages/pandas/core/series.py\u001b[0m in \u001b[0;36mapply\u001b[0;34m(self, func, convert_dtype, args, **kwargs)\u001b[0m\n\u001b[1;32m   4628\u001b[0m         \u001b[0mdtype\u001b[0m\u001b[0;34m:\u001b[0m \u001b[0mfloat64\u001b[0m\u001b[0;34m\u001b[0m\u001b[0;34m\u001b[0m\u001b[0m\n\u001b[1;32m   4629\u001b[0m         \"\"\"\n\u001b[0;32m-> 4630\u001b[0;31m         \u001b[0;32mreturn\u001b[0m \u001b[0mSeriesApply\u001b[0m\u001b[0;34m(\u001b[0m\u001b[0mself\u001b[0m\u001b[0;34m,\u001b[0m \u001b[0mfunc\u001b[0m\u001b[0;34m,\u001b[0m \u001b[0mconvert_dtype\u001b[0m\u001b[0;34m,\u001b[0m \u001b[0margs\u001b[0m\u001b[0;34m,\u001b[0m \u001b[0mkwargs\u001b[0m\u001b[0;34m)\u001b[0m\u001b[0;34m.\u001b[0m\u001b[0mapply\u001b[0m\u001b[0;34m(\u001b[0m\u001b[0;34m)\u001b[0m\u001b[0;34m\u001b[0m\u001b[0;34m\u001b[0m\u001b[0m\n\u001b[0m\u001b[1;32m   4631\u001b[0m \u001b[0;34m\u001b[0m\u001b[0m\n\u001b[1;32m   4632\u001b[0m     def _reduce(\n",
            "\u001b[0;32m/usr/local/lib/python3.10/dist-packages/pandas/core/apply.py\u001b[0m in \u001b[0;36mapply\u001b[0;34m(self)\u001b[0m\n\u001b[1;32m   1023\u001b[0m \u001b[0;34m\u001b[0m\u001b[0m\n\u001b[1;32m   1024\u001b[0m         \u001b[0;31m# self.f is Callable\u001b[0m\u001b[0;34m\u001b[0m\u001b[0;34m\u001b[0m\u001b[0m\n\u001b[0;32m-> 1025\u001b[0;31m         \u001b[0;32mreturn\u001b[0m \u001b[0mself\u001b[0m\u001b[0;34m.\u001b[0m\u001b[0mapply_standard\u001b[0m\u001b[0;34m(\u001b[0m\u001b[0;34m)\u001b[0m\u001b[0;34m\u001b[0m\u001b[0;34m\u001b[0m\u001b[0m\n\u001b[0m\u001b[1;32m   1026\u001b[0m \u001b[0;34m\u001b[0m\u001b[0m\n\u001b[1;32m   1027\u001b[0m     \u001b[0;32mdef\u001b[0m \u001b[0magg\u001b[0m\u001b[0;34m(\u001b[0m\u001b[0mself\u001b[0m\u001b[0;34m)\u001b[0m\u001b[0;34m:\u001b[0m\u001b[0;34m\u001b[0m\u001b[0;34m\u001b[0m\u001b[0m\n",
            "\u001b[0;32m/usr/local/lib/python3.10/dist-packages/pandas/core/apply.py\u001b[0m in \u001b[0;36mapply_standard\u001b[0;34m(self)\u001b[0m\n\u001b[1;32m   1074\u001b[0m             \u001b[0;32melse\u001b[0m\u001b[0;34m:\u001b[0m\u001b[0;34m\u001b[0m\u001b[0;34m\u001b[0m\u001b[0m\n\u001b[1;32m   1075\u001b[0m                 \u001b[0mvalues\u001b[0m \u001b[0;34m=\u001b[0m \u001b[0mobj\u001b[0m\u001b[0;34m.\u001b[0m\u001b[0mastype\u001b[0m\u001b[0;34m(\u001b[0m\u001b[0mobject\u001b[0m\u001b[0;34m)\u001b[0m\u001b[0;34m.\u001b[0m\u001b[0m_values\u001b[0m\u001b[0;34m\u001b[0m\u001b[0;34m\u001b[0m\u001b[0m\n\u001b[0;32m-> 1076\u001b[0;31m                 mapped = lib.map_infer(\n\u001b[0m\u001b[1;32m   1077\u001b[0m                     \u001b[0mvalues\u001b[0m\u001b[0;34m,\u001b[0m\u001b[0;34m\u001b[0m\u001b[0;34m\u001b[0m\u001b[0m\n\u001b[1;32m   1078\u001b[0m                     \u001b[0mf\u001b[0m\u001b[0;34m,\u001b[0m\u001b[0;34m\u001b[0m\u001b[0;34m\u001b[0m\u001b[0m\n",
            "\u001b[0;32m/usr/local/lib/python3.10/dist-packages/pandas/_libs/lib.pyx\u001b[0m in \u001b[0;36mpandas._libs.lib.map_infer\u001b[0;34m()\u001b[0m\n",
            "\u001b[0;32m<ipython-input-23-e2eb8023f6a4>\u001b[0m in \u001b[0;36m<lambda>\u001b[0;34m(x)\u001b[0m\n\u001b[0;32m----> 1\u001b[0;31m \u001b[0mdollarizer\u001b[0m \u001b[0;34m=\u001b[0m \u001b[0;32mlambda\u001b[0m \u001b[0mx\u001b[0m\u001b[0;34m:\u001b[0m \u001b[0mfloat\u001b[0m\u001b[0;34m(\u001b[0m\u001b[0mx\u001b[0m\u001b[0;34m[\u001b[0m\u001b[0;36m1\u001b[0m\u001b[0;34m:\u001b[0m\u001b[0;34m-\u001b[0m\u001b[0;36m1\u001b[0m\u001b[0;34m]\u001b[0m\u001b[0;34m)\u001b[0m\u001b[0;34m\u001b[0m\u001b[0;34m\u001b[0m\u001b[0m\n\u001b[0m\u001b[1;32m      2\u001b[0m \u001b[0mchipo\u001b[0m\u001b[0;34m.\u001b[0m\u001b[0mitem_price\u001b[0m \u001b[0;34m=\u001b[0m \u001b[0mchipo\u001b[0m\u001b[0;34m.\u001b[0m\u001b[0mitem_price\u001b[0m\u001b[0;34m.\u001b[0m\u001b[0mapply\u001b[0m\u001b[0;34m(\u001b[0m\u001b[0mdollarizer\u001b[0m\u001b[0;34m)\u001b[0m\u001b[0;34m\u001b[0m\u001b[0;34m\u001b[0m\u001b[0m\n",
            "\u001b[0;31mTypeError\u001b[0m: 'float' object is not subscriptable"
          ]
        }
      ],
      "source": [
        "dollarizer = lambda x: float(x[1:-1])\n",
        "chipo.item_price = chipo.item_price.apply(dollarizer)"
      ]
    },
    {
      "cell_type": "markdown",
      "metadata": {
        "id": "PbDMtBo5HjV0"
      },
      "source": [
        "#### Step 13.c. Check the item price type"
      ]
    },
    {
      "cell_type": "code",
      "execution_count": null,
      "metadata": {
        "colab": {
          "base_uri": "https://localhost:8080/"
        },
        "id": "1GKYxmKSHjV1",
        "outputId": "6d4516bf-15c3-4030-b2a1-eb6c532ee3a7"
      },
      "outputs": [
        {
          "output_type": "execute_result",
          "data": {
            "text/plain": [
              "dtype('float64')"
            ]
          },
          "metadata": {},
          "execution_count": 24
        }
      ],
      "source": [
        "chipo['item_price'].dtype"
      ]
    },
    {
      "cell_type": "markdown",
      "metadata": {
        "id": "eJY6DJMfHjV1"
      },
      "source": [
        "### Step 14. How much was the revenue for the period in the dataset?"
      ]
    },
    {
      "cell_type": "code",
      "execution_count": null,
      "metadata": {
        "colab": {
          "base_uri": "https://localhost:8080/"
        },
        "id": "UHmQDG_QHjV1",
        "outputId": "7dac2dbe-ad01-4351-b2e4-ec1271b9abc0"
      },
      "outputs": [
        {
          "output_type": "execute_result",
          "data": {
            "text/plain": [
              "39237.02"
            ]
          },
          "metadata": {},
          "execution_count": 25
        }
      ],
      "source": [
        "revenue=chipo.quantity*chipo.item_price\n",
        "revenue.sum()"
      ]
    },
    {
      "cell_type": "markdown",
      "metadata": {
        "id": "0vvPQP5sHjV1"
      },
      "source": [
        "### Step 15. How many orders were made in the period?"
      ]
    },
    {
      "cell_type": "code",
      "execution_count": null,
      "metadata": {
        "colab": {
          "base_uri": "https://localhost:8080/"
        },
        "id": "OqApv7RKHjV1",
        "outputId": "895e7b21-08d0-4ae9-a6f7-da1c7b1d881b"
      },
      "outputs": [
        {
          "output_type": "execute_result",
          "data": {
            "text/plain": [
              "1834"
            ]
          },
          "metadata": {},
          "execution_count": 27
        }
      ],
      "source": [
        "orders = chipo.order_id.value_counts().count()\n",
        "orders"
      ]
    },
    {
      "cell_type": "markdown",
      "metadata": {
        "id": "kzQ19GE3HjV1"
      },
      "source": [
        "### Step 16. What is the average revenue amount per order?"
      ]
    },
    {
      "cell_type": "code",
      "execution_count": null,
      "metadata": {
        "colab": {
          "base_uri": "https://localhost:8080/"
        },
        "id": "WZ6osQuJHjV1",
        "outputId": "fc8e0300-7a05-4ae4-98a4-3c08e79e0543"
      },
      "outputs": [
        {
          "output_type": "execute_result",
          "data": {
            "text/plain": [
              "21.39423118865867"
            ]
          },
          "metadata": {},
          "execution_count": 33
        }
      ],
      "source": [
        "# Solution 1\n",
        "chipo['revenue'] = chipo['quantity'] * chipo['item_price']\n",
        "order_grouped = chipo.groupby(by=['order_id']).sum()\n",
        "order_grouped.mean(numeric_only=True)['revenue']"
      ]
    },
    {
      "cell_type": "code",
      "execution_count": null,
      "metadata": {
        "id": "QHI1cOv6HjV2"
      },
      "outputs": [],
      "source": [
        "# Solution 2\n",
        "\n"
      ]
    },
    {
      "cell_type": "markdown",
      "metadata": {
        "id": "IZrQ2HrpHjWA"
      },
      "source": [
        "### Step 17. How many different items are sold?"
      ]
    },
    {
      "cell_type": "code",
      "execution_count": null,
      "metadata": {
        "colab": {
          "base_uri": "https://localhost:8080/"
        },
        "id": "B3rlVy8RHjWB",
        "outputId": "6d5c3a84-e2f3-4556-fe33-8e7c60d1d418"
      },
      "outputs": [
        {
          "output_type": "execute_result",
          "data": {
            "text/plain": [
              "50"
            ]
          },
          "metadata": {},
          "execution_count": 36
        }
      ],
      "source": [
        "chipo.groupby('item_name').sum().shape[0]\n"
      ]
    },
    {
      "cell_type": "code",
      "source": [],
      "metadata": {
        "id": "mNjRrFsqP7j1"
      },
      "execution_count": null,
      "outputs": []
    }
  ],
  "metadata": {
    "anaconda-cloud": {},
    "kernelspec": {
      "display_name": "Python [default]",
      "language": "python",
      "name": "python2"
    },
    "language_info": {
      "codemirror_mode": {
        "name": "ipython",
        "version": 2
      },
      "file_extension": ".py",
      "mimetype": "text/x-python",
      "name": "python",
      "nbconvert_exporter": "python",
      "pygments_lexer": "ipython2",
      "version": "2.7.12"
    },
    "colab": {
      "provenance": []
    }
  },
  "nbformat": 4,
  "nbformat_minor": 0
}